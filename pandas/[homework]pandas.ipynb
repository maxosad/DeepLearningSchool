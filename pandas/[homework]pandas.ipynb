{
 "cells": [
  {
   "cell_type": "markdown",
   "metadata": {
    "id": "ka8EsSp8YNED"
   },
   "source": [
    "<p style=\"align: center;\"><img src=\"https://static.tildacdn.com/tild6636-3531-4239-b465-376364646465/Deep_Learning_School.png\", width=600, height=300></p>\n",
    "\n",
    "<h3 style=\"text-align: center;\"><b>Школа глубокого обучения ФПМИ МФТИ</b></h3>\n",
    "\n",
    "<h2 style=\"text-align: center;\"><b>Домашнее задание. Библиотека <a href=\"http://pandas.pydata.org/\">pandas</a></b></h2>"
   ]
  },
  {
   "cell_type": "markdown",
   "metadata": {
    "id": "W3HlSElnYNED"
   },
   "source": [
    "В этом задании вы проанализируете данные из Appstore\n",
    "\n",
    "<img src=\"https://drive.google.com/uc?export=view&id=1F1Qajgj-dC4o4VI3Wm7fIGlOJA0a60_B\" width=300 height=300>\n"
   ]
  },
  {
   "cell_type": "code",
   "execution_count": 1,
   "metadata": {
    "id": "Rl48-GqCYNEF"
   },
   "outputs": [],
   "source": [
    "#!pip install pandas"
   ]
  },
  {
   "cell_type": "code",
   "execution_count": 2,
   "metadata": {
    "id": "fNjo9Tk7YNEI"
   },
   "outputs": [],
   "source": [
    "import pandas as pd\n",
    "import numpy as np"
   ]
  },
  {
   "cell_type": "markdown",
   "metadata": {
    "id": "fZaQFimMYNEK"
   },
   "source": []
  },
  {
   "cell_type": "markdown",
   "metadata": {
    "id": "1xPaEni5YNEL"
   },
   "source": [
    "### Данные для задания: https://drive.google.com/file/d/1JY8l5nSu9O4GtMDpaOfH2Oowlpza3U-c/view?usp=sharing"
   ]
  },
  {
   "cell_type": "code",
   "execution_count": 3,
   "metadata": {
    "id": "my6fQWvBYNEM"
   },
   "outputs": [],
   "source": [
    "data = pd.read_csv('BlackFriday.csv')"
   ]
  },
  {
   "cell_type": "markdown",
   "metadata": {
    "id": "Tvo9H9BpYNEN"
   },
   "source": [
    "Посмотрим, что же такое переменная `data`:"
   ]
  },
  {
   "cell_type": "code",
   "execution_count": 53,
   "metadata": {
    "colab": {
     "base_uri": "https://localhost:8080/",
     "height": 419
    },
    "executionInfo": {
     "elapsed": 485,
     "status": "ok",
     "timestamp": 1633021753185,
     "user": {
      "displayName": "Yury Yarovikov",
      "photoUrl": "https://lh3.googleusercontent.com/a-/AOh14Gip8__BUAkkFW7zB1tjXwB7Y8uEezomM5ErVG2V=s64",
      "userId": "05223355485824927663"
     },
     "user_tz": -180
    },
    "id": "45ckp1neYNEO",
    "outputId": "720c4313-246c-4efb-9efb-8e7a92798eec"
   },
   "outputs": [
    {
     "data": {
      "text/html": [
       "<div>\n",
       "<style scoped>\n",
       "    .dataframe tbody tr th:only-of-type {\n",
       "        vertical-align: middle;\n",
       "    }\n",
       "\n",
       "    .dataframe tbody tr th {\n",
       "        vertical-align: top;\n",
       "    }\n",
       "\n",
       "    .dataframe thead th {\n",
       "        text-align: right;\n",
       "    }\n",
       "</style>\n",
       "<table border=\"1\" class=\"dataframe\">\n",
       "  <thead>\n",
       "    <tr style=\"text-align: right;\">\n",
       "      <th></th>\n",
       "      <th>User_ID</th>\n",
       "      <th>Product_ID</th>\n",
       "      <th>Gender</th>\n",
       "      <th>Age</th>\n",
       "      <th>Occupation</th>\n",
       "      <th>City_Category</th>\n",
       "      <th>Stay_In_Current_City_Years</th>\n",
       "      <th>Marital_Status</th>\n",
       "      <th>Product_Category_1</th>\n",
       "      <th>Product_Category_2</th>\n",
       "      <th>Product_Category_3</th>\n",
       "      <th>Purchase</th>\n",
       "    </tr>\n",
       "  </thead>\n",
       "  <tbody>\n",
       "    <tr>\n",
       "      <th>0</th>\n",
       "      <td>1000001</td>\n",
       "      <td>P00069042</td>\n",
       "      <td>F</td>\n",
       "      <td>0-17</td>\n",
       "      <td>10</td>\n",
       "      <td>A</td>\n",
       "      <td>2</td>\n",
       "      <td>0</td>\n",
       "      <td>3</td>\n",
       "      <td>NaN</td>\n",
       "      <td>NaN</td>\n",
       "      <td>8370</td>\n",
       "    </tr>\n",
       "    <tr>\n",
       "      <th>1</th>\n",
       "      <td>1000001</td>\n",
       "      <td>P00248942</td>\n",
       "      <td>F</td>\n",
       "      <td>0-17</td>\n",
       "      <td>10</td>\n",
       "      <td>A</td>\n",
       "      <td>2</td>\n",
       "      <td>0</td>\n",
       "      <td>1</td>\n",
       "      <td>6.0</td>\n",
       "      <td>14.0</td>\n",
       "      <td>15200</td>\n",
       "    </tr>\n",
       "    <tr>\n",
       "      <th>2</th>\n",
       "      <td>1000001</td>\n",
       "      <td>P00087842</td>\n",
       "      <td>F</td>\n",
       "      <td>0-17</td>\n",
       "      <td>10</td>\n",
       "      <td>A</td>\n",
       "      <td>2</td>\n",
       "      <td>0</td>\n",
       "      <td>12</td>\n",
       "      <td>NaN</td>\n",
       "      <td>NaN</td>\n",
       "      <td>1422</td>\n",
       "    </tr>\n",
       "    <tr>\n",
       "      <th>3</th>\n",
       "      <td>1000001</td>\n",
       "      <td>P00085442</td>\n",
       "      <td>F</td>\n",
       "      <td>0-17</td>\n",
       "      <td>10</td>\n",
       "      <td>A</td>\n",
       "      <td>2</td>\n",
       "      <td>0</td>\n",
       "      <td>12</td>\n",
       "      <td>14.0</td>\n",
       "      <td>NaN</td>\n",
       "      <td>1057</td>\n",
       "    </tr>\n",
       "    <tr>\n",
       "      <th>4</th>\n",
       "      <td>1000002</td>\n",
       "      <td>P00285442</td>\n",
       "      <td>M</td>\n",
       "      <td>55+</td>\n",
       "      <td>16</td>\n",
       "      <td>C</td>\n",
       "      <td>4+</td>\n",
       "      <td>0</td>\n",
       "      <td>8</td>\n",
       "      <td>NaN</td>\n",
       "      <td>NaN</td>\n",
       "      <td>7969</td>\n",
       "    </tr>\n",
       "    <tr>\n",
       "      <th>...</th>\n",
       "      <td>...</td>\n",
       "      <td>...</td>\n",
       "      <td>...</td>\n",
       "      <td>...</td>\n",
       "      <td>...</td>\n",
       "      <td>...</td>\n",
       "      <td>...</td>\n",
       "      <td>...</td>\n",
       "      <td>...</td>\n",
       "      <td>...</td>\n",
       "      <td>...</td>\n",
       "      <td>...</td>\n",
       "    </tr>\n",
       "    <tr>\n",
       "      <th>537572</th>\n",
       "      <td>1004737</td>\n",
       "      <td>P00193542</td>\n",
       "      <td>M</td>\n",
       "      <td>36-45</td>\n",
       "      <td>16</td>\n",
       "      <td>C</td>\n",
       "      <td>1</td>\n",
       "      <td>0</td>\n",
       "      <td>1</td>\n",
       "      <td>2.0</td>\n",
       "      <td>NaN</td>\n",
       "      <td>11664</td>\n",
       "    </tr>\n",
       "    <tr>\n",
       "      <th>537573</th>\n",
       "      <td>1004737</td>\n",
       "      <td>P00111142</td>\n",
       "      <td>M</td>\n",
       "      <td>36-45</td>\n",
       "      <td>16</td>\n",
       "      <td>C</td>\n",
       "      <td>1</td>\n",
       "      <td>0</td>\n",
       "      <td>1</td>\n",
       "      <td>15.0</td>\n",
       "      <td>16.0</td>\n",
       "      <td>19196</td>\n",
       "    </tr>\n",
       "    <tr>\n",
       "      <th>537574</th>\n",
       "      <td>1004737</td>\n",
       "      <td>P00345942</td>\n",
       "      <td>M</td>\n",
       "      <td>36-45</td>\n",
       "      <td>16</td>\n",
       "      <td>C</td>\n",
       "      <td>1</td>\n",
       "      <td>0</td>\n",
       "      <td>8</td>\n",
       "      <td>15.0</td>\n",
       "      <td>NaN</td>\n",
       "      <td>8043</td>\n",
       "    </tr>\n",
       "    <tr>\n",
       "      <th>537575</th>\n",
       "      <td>1004737</td>\n",
       "      <td>P00285842</td>\n",
       "      <td>M</td>\n",
       "      <td>36-45</td>\n",
       "      <td>16</td>\n",
       "      <td>C</td>\n",
       "      <td>1</td>\n",
       "      <td>0</td>\n",
       "      <td>5</td>\n",
       "      <td>NaN</td>\n",
       "      <td>NaN</td>\n",
       "      <td>7172</td>\n",
       "    </tr>\n",
       "    <tr>\n",
       "      <th>537576</th>\n",
       "      <td>1004737</td>\n",
       "      <td>P00118242</td>\n",
       "      <td>M</td>\n",
       "      <td>36-45</td>\n",
       "      <td>16</td>\n",
       "      <td>C</td>\n",
       "      <td>1</td>\n",
       "      <td>0</td>\n",
       "      <td>5</td>\n",
       "      <td>8.0</td>\n",
       "      <td>NaN</td>\n",
       "      <td>6875</td>\n",
       "    </tr>\n",
       "  </tbody>\n",
       "</table>\n",
       "<p>537577 rows × 12 columns</p>\n",
       "</div>"
      ],
      "text/plain": [
       "        User_ID Product_ID Gender    Age  Occupation City_Category  \\\n",
       "0       1000001  P00069042      F   0-17          10             A   \n",
       "1       1000001  P00248942      F   0-17          10             A   \n",
       "2       1000001  P00087842      F   0-17          10             A   \n",
       "3       1000001  P00085442      F   0-17          10             A   \n",
       "4       1000002  P00285442      M    55+          16             C   \n",
       "...         ...        ...    ...    ...         ...           ...   \n",
       "537572  1004737  P00193542      M  36-45          16             C   \n",
       "537573  1004737  P00111142      M  36-45          16             C   \n",
       "537574  1004737  P00345942      M  36-45          16             C   \n",
       "537575  1004737  P00285842      M  36-45          16             C   \n",
       "537576  1004737  P00118242      M  36-45          16             C   \n",
       "\n",
       "       Stay_In_Current_City_Years  Marital_Status  Product_Category_1  \\\n",
       "0                               2               0                   3   \n",
       "1                               2               0                   1   \n",
       "2                               2               0                  12   \n",
       "3                               2               0                  12   \n",
       "4                              4+               0                   8   \n",
       "...                           ...             ...                 ...   \n",
       "537572                          1               0                   1   \n",
       "537573                          1               0                   1   \n",
       "537574                          1               0                   8   \n",
       "537575                          1               0                   5   \n",
       "537576                          1               0                   5   \n",
       "\n",
       "        Product_Category_2  Product_Category_3  Purchase  \n",
       "0                      NaN                 NaN      8370  \n",
       "1                      6.0                14.0     15200  \n",
       "2                      NaN                 NaN      1422  \n",
       "3                     14.0                 NaN      1057  \n",
       "4                      NaN                 NaN      7969  \n",
       "...                    ...                 ...       ...  \n",
       "537572                 2.0                 NaN     11664  \n",
       "537573                15.0                16.0     19196  \n",
       "537574                15.0                 NaN      8043  \n",
       "537575                 NaN                 NaN      7172  \n",
       "537576                 8.0                 NaN      6875  \n",
       "\n",
       "[537577 rows x 12 columns]"
      ]
     },
     "execution_count": 53,
     "metadata": {},
     "output_type": "execute_result"
    }
   ],
   "source": [
    "data"
   ]
  },
  {
   "cell_type": "code",
   "execution_count": 54,
   "metadata": {
    "id": "f0SspKW5YNEU",
    "outputId": "ad512ef5-8238-42ac-af99-944e7b74c402"
   },
   "outputs": [
    {
     "data": {
      "text/plain": [
       "pandas.core.series.Series"
      ]
     },
     "execution_count": 54,
     "metadata": {},
     "output_type": "execute_result"
    }
   ],
   "source": [
    "type(data.Age)"
   ]
  },
  {
   "cell_type": "markdown",
   "metadata": {
    "id": "8Euq1CYeYNEX"
   },
   "source": [
    "---"
   ]
  },
  {
   "cell_type": "markdown",
   "metadata": {
    "id": "kwm98nkcYNEY"
   },
   "source": [
    "#### Вопрос"
   ]
  },
  {
   "cell_type": "markdown",
   "metadata": {
    "id": "sd8GKDI2YNEZ"
   },
   "source": [
    "О чём данные? (Hint: https://www.kaggle.com/sdolezel/black-friday)"
   ]
  },
  {
   "cell_type": "markdown",
   "metadata": {
    "id": "S-CQd-BfYNEa"
   },
   "source": [
    "---"
   ]
  },
  {
   "cell_type": "markdown",
   "metadata": {
    "id": "3q3tNGOrYNEa"
   },
   "source": [
    "#### Основное задание (в тесте надо будет вставлять ответы для этих пунктов):"
   ]
  },
  {
   "cell_type": "markdown",
   "metadata": {
    "id": "--kzTfO2YNEb"
   },
   "source": [
    "*Примечание:* не бойтесь гуглить и заглядывать в \"Полезные ссылки\" для того, чтобы выполнить какие-то задания. Возможно, на семинаре не было какого-то нужного метода, но он находится в поисковике за 2 минуты."
   ]
  },
  {
   "cell_type": "markdown",
   "metadata": {
    "id": "WXRRMZe7YNEb"
   },
   "source": [
    "**0).** Сколько всего возрастных категорий?  "
   ]
  },
  {
   "cell_type": "code",
   "execution_count": 15,
   "metadata": {
    "id": "bj7ljslWYNEd"
   },
   "outputs": [
    {
     "data": {
      "text/html": [
       "<div>\n",
       "<style scoped>\n",
       "    .dataframe tbody tr th:only-of-type {\n",
       "        vertical-align: middle;\n",
       "    }\n",
       "\n",
       "    .dataframe tbody tr th {\n",
       "        vertical-align: top;\n",
       "    }\n",
       "\n",
       "    .dataframe thead th {\n",
       "        text-align: right;\n",
       "    }\n",
       "</style>\n",
       "<table border=\"1\" class=\"dataframe\">\n",
       "  <thead>\n",
       "    <tr style=\"text-align: right;\">\n",
       "      <th></th>\n",
       "      <th>User_ID</th>\n",
       "      <th>Occupation</th>\n",
       "      <th>Marital_Status</th>\n",
       "      <th>Product_Category_1</th>\n",
       "      <th>Product_Category_2</th>\n",
       "      <th>Product_Category_3</th>\n",
       "      <th>Purchase</th>\n",
       "    </tr>\n",
       "    <tr>\n",
       "      <th>Age</th>\n",
       "      <th></th>\n",
       "      <th></th>\n",
       "      <th></th>\n",
       "      <th></th>\n",
       "      <th></th>\n",
       "      <th></th>\n",
       "      <th></th>\n",
       "    </tr>\n",
       "  </thead>\n",
       "  <tbody>\n",
       "    <tr>\n",
       "      <th>0-17</th>\n",
       "      <td>14746359773</td>\n",
       "      <td>129278</td>\n",
       "      <td>0</td>\n",
       "      <td>72599</td>\n",
       "      <td>94435.0</td>\n",
       "      <td>56751.0</td>\n",
       "      <td>132659006</td>\n",
       "    </tr>\n",
       "    <tr>\n",
       "      <th>18-25</th>\n",
       "      <td>97904093780</td>\n",
       "      <td>657774</td>\n",
       "      <td>20641</td>\n",
       "      <td>488498</td>\n",
       "      <td>646679.0</td>\n",
       "      <td>382878.0</td>\n",
       "      <td>901669280</td>\n",
       "    </tr>\n",
       "    <tr>\n",
       "      <th>26-35</th>\n",
       "      <td>215350137743</td>\n",
       "      <td>1696554</td>\n",
       "      <td>84166</td>\n",
       "      <td>1120056</td>\n",
       "      <td>1449438.0</td>\n",
       "      <td>833751.0</td>\n",
       "      <td>1999749106</td>\n",
       "    </tr>\n",
       "    <tr>\n",
       "      <th>36-45</th>\n",
       "      <td>107824726995</td>\n",
       "      <td>951060</td>\n",
       "      <td>42507</td>\n",
       "      <td>579163</td>\n",
       "      <td>738302.0</td>\n",
       "      <td>417688.0</td>\n",
       "      <td>1010649565</td>\n",
       "    </tr>\n",
       "    <tr>\n",
       "      <th>46-50</th>\n",
       "      <td>44666364150</td>\n",
       "      <td>379645</td>\n",
       "      <td>32194</td>\n",
       "      <td>250663</td>\n",
       "      <td>309804.0</td>\n",
       "      <td>169940.0</td>\n",
       "      <td>413418223</td>\n",
       "    </tr>\n",
       "    <tr>\n",
       "      <th>51-55</th>\n",
       "      <td>37728982395</td>\n",
       "      <td>331396</td>\n",
       "      <td>26979</td>\n",
       "      <td>212529</td>\n",
       "      <td>263714.0</td>\n",
       "      <td>144426.0</td>\n",
       "      <td>361908356</td>\n",
       "    </tr>\n",
       "    <tr>\n",
       "      <th>55+</th>\n",
       "      <td>20964683314</td>\n",
       "      <td>199372</td>\n",
       "      <td>13273</td>\n",
       "      <td>123256</td>\n",
       "      <td>145038.0</td>\n",
       "      <td>75942.0</td>\n",
       "      <td>197614842</td>\n",
       "    </tr>\n",
       "  </tbody>\n",
       "</table>\n",
       "</div>"
      ],
      "text/plain": [
       "            User_ID  Occupation  Marital_Status  Product_Category_1  \\\n",
       "Age                                                                   \n",
       "0-17    14746359773      129278               0               72599   \n",
       "18-25   97904093780      657774           20641              488498   \n",
       "26-35  215350137743     1696554           84166             1120056   \n",
       "36-45  107824726995      951060           42507              579163   \n",
       "46-50   44666364150      379645           32194              250663   \n",
       "51-55   37728982395      331396           26979              212529   \n",
       "55+     20964683314      199372           13273              123256   \n",
       "\n",
       "       Product_Category_2  Product_Category_3    Purchase  \n",
       "Age                                                        \n",
       "0-17              94435.0             56751.0   132659006  \n",
       "18-25            646679.0            382878.0   901669280  \n",
       "26-35           1449438.0            833751.0  1999749106  \n",
       "36-45            738302.0            417688.0  1010649565  \n",
       "46-50            309804.0            169940.0   413418223  \n",
       "51-55            263714.0            144426.0   361908356  \n",
       "55+              145038.0             75942.0   197614842  "
      ]
     },
     "execution_count": 15,
     "metadata": {},
     "output_type": "execute_result"
    }
   ],
   "source": [
    "# Ваш код здесь\n",
    "data.groupby('Age').sum()"
   ]
  },
  {
   "cell_type": "markdown",
   "metadata": {
    "id": "H4UpHEFbYNEf"
   },
   "source": [
    "**1).** Сколько строк с мужчинами из категории города A? (речь не об уникальных ID мужчин, а о количестве строк)  "
   ]
  },
  {
   "cell_type": "code",
   "execution_count": 51,
   "metadata": {},
   "outputs": [
    {
     "data": {
      "text/html": [
       "<div>\n",
       "<style scoped>\n",
       "    .dataframe tbody tr th:only-of-type {\n",
       "        vertical-align: middle;\n",
       "    }\n",
       "\n",
       "    .dataframe tbody tr th {\n",
       "        vertical-align: top;\n",
       "    }\n",
       "\n",
       "    .dataframe thead th {\n",
       "        text-align: right;\n",
       "    }\n",
       "</style>\n",
       "<table border=\"1\" class=\"dataframe\">\n",
       "  <thead>\n",
       "    <tr style=\"text-align: right;\">\n",
       "      <th></th>\n",
       "      <th></th>\n",
       "      <th>User_ID</th>\n",
       "      <th>Product_ID</th>\n",
       "      <th>Age</th>\n",
       "      <th>Occupation</th>\n",
       "      <th>Stay_In_Current_City_Years</th>\n",
       "      <th>Marital_Status</th>\n",
       "      <th>Product_Category_1</th>\n",
       "      <th>Product_Category_2</th>\n",
       "      <th>Product_Category_3</th>\n",
       "      <th>Purchase</th>\n",
       "    </tr>\n",
       "    <tr>\n",
       "      <th>Gender</th>\n",
       "      <th>City_Category</th>\n",
       "      <th></th>\n",
       "      <th></th>\n",
       "      <th></th>\n",
       "      <th></th>\n",
       "      <th></th>\n",
       "      <th></th>\n",
       "      <th></th>\n",
       "      <th></th>\n",
       "      <th></th>\n",
       "      <th></th>\n",
       "    </tr>\n",
       "  </thead>\n",
       "  <tbody>\n",
       "    <tr>\n",
       "      <th rowspan=\"3\" valign=\"top\">F</th>\n",
       "      <th>A</th>\n",
       "      <td>34807</td>\n",
       "      <td>34807</td>\n",
       "      <td>34807</td>\n",
       "      <td>34807</td>\n",
       "      <td>34807</td>\n",
       "      <td>34807</td>\n",
       "      <td>34807</td>\n",
       "      <td>23026</td>\n",
       "      <td>8998</td>\n",
       "      <td>34807</td>\n",
       "    </tr>\n",
       "    <tr>\n",
       "      <th>B</th>\n",
       "      <td>56494</td>\n",
       "      <td>56494</td>\n",
       "      <td>56494</td>\n",
       "      <td>56494</td>\n",
       "      <td>56494</td>\n",
       "      <td>56494</td>\n",
       "      <td>56494</td>\n",
       "      <td>38038</td>\n",
       "      <td>15442</td>\n",
       "      <td>56494</td>\n",
       "    </tr>\n",
       "    <tr>\n",
       "      <th>C</th>\n",
       "      <td>40896</td>\n",
       "      <td>40896</td>\n",
       "      <td>40896</td>\n",
       "      <td>40896</td>\n",
       "      <td>40896</td>\n",
       "      <td>40896</td>\n",
       "      <td>40896</td>\n",
       "      <td>28786</td>\n",
       "      <td>12492</td>\n",
       "      <td>40896</td>\n",
       "    </tr>\n",
       "    <tr>\n",
       "      <th rowspan=\"3\" valign=\"top\">M</th>\n",
       "      <th>A</th>\n",
       "      <td>109831</td>\n",
       "      <td>109831</td>\n",
       "      <td>109831</td>\n",
       "      <td>109831</td>\n",
       "      <td>109831</td>\n",
       "      <td>109831</td>\n",
       "      <td>109831</td>\n",
       "      <td>73729</td>\n",
       "      <td>31850</td>\n",
       "      <td>109831</td>\n",
       "    </tr>\n",
       "    <tr>\n",
       "      <th>B</th>\n",
       "      <td>169999</td>\n",
       "      <td>169999</td>\n",
       "      <td>169999</td>\n",
       "      <td>169999</td>\n",
       "      <td>169999</td>\n",
       "      <td>169999</td>\n",
       "      <td>169999</td>\n",
       "      <td>117210</td>\n",
       "      <td>52743</td>\n",
       "      <td>169999</td>\n",
       "    </tr>\n",
       "    <tr>\n",
       "      <th>C</th>\n",
       "      <td>125550</td>\n",
       "      <td>125550</td>\n",
       "      <td>125550</td>\n",
       "      <td>125550</td>\n",
       "      <td>125550</td>\n",
       "      <td>125550</td>\n",
       "      <td>125550</td>\n",
       "      <td>89802</td>\n",
       "      <td>42753</td>\n",
       "      <td>125550</td>\n",
       "    </tr>\n",
       "  </tbody>\n",
       "</table>\n",
       "</div>"
      ],
      "text/plain": [
       "                      User_ID  Product_ID     Age  Occupation  \\\n",
       "Gender City_Category                                            \n",
       "F      A                34807       34807   34807       34807   \n",
       "       B                56494       56494   56494       56494   \n",
       "       C                40896       40896   40896       40896   \n",
       "M      A               109831      109831  109831      109831   \n",
       "       B               169999      169999  169999      169999   \n",
       "       C               125550      125550  125550      125550   \n",
       "\n",
       "                      Stay_In_Current_City_Years  Marital_Status  \\\n",
       "Gender City_Category                                               \n",
       "F      A                                   34807           34807   \n",
       "       B                                   56494           56494   \n",
       "       C                                   40896           40896   \n",
       "M      A                                  109831          109831   \n",
       "       B                                  169999          169999   \n",
       "       C                                  125550          125550   \n",
       "\n",
       "                      Product_Category_1  Product_Category_2  \\\n",
       "Gender City_Category                                           \n",
       "F      A                           34807               23026   \n",
       "       B                           56494               38038   \n",
       "       C                           40896               28786   \n",
       "M      A                          109831               73729   \n",
       "       B                          169999              117210   \n",
       "       C                          125550               89802   \n",
       "\n",
       "                      Product_Category_3  Purchase  \n",
       "Gender City_Category                                \n",
       "F      A                            8998     34807  \n",
       "       B                           15442     56494  \n",
       "       C                           12492     40896  \n",
       "M      A                           31850    109831  \n",
       "       B                           52743    169999  \n",
       "       C                           42753    125550  "
      ]
     },
     "execution_count": 51,
     "metadata": {},
     "output_type": "execute_result"
    }
   ],
   "source": [
    "#Ваш код\n",
    "data.groupby(['Gender', 'City_Category']).count()"
   ]
  },
  {
   "cell_type": "markdown",
   "metadata": {
    "id": "PDC06O38YNEi"
   },
   "source": [
    "**2).** Сколько женщин от 46 до 50, потративших (столбец Purchase) больше 20000 (условных единиц, в данном случае)?   (речь не об уникальных ID, а о количестве строк)  "
   ]
  },
  {
   "cell_type": "code",
   "execution_count": 60,
   "metadata": {
    "id": "T2_v92xoYNEi"
   },
   "outputs": [
    {
     "data": {
      "text/plain": [
       "User_ID                       270\n",
       "Product_ID                    270\n",
       "Gender                        270\n",
       "Age                           270\n",
       "Occupation                    270\n",
       "City_Category                 270\n",
       "Stay_In_Current_City_Years    270\n",
       "Marital_Status                270\n",
       "Product_Category_1            270\n",
       "Product_Category_2            166\n",
       "Product_Category_3             73\n",
       "Purchase                      270\n",
       "dtype: int64"
      ]
     },
     "execution_count": 60,
     "metadata": {},
     "output_type": "execute_result"
    }
   ],
   "source": [
    "# Ваш код здесь\n",
    "#data[data.Age == '46-50' and data.Purchase > 20000].coutn()\n",
    "data.loc[ (data['Gender'] == 'F') & (data['Age'] == '46-50') & (data['Purchase'] > 20000)].count()"
   ]
  },
  {
   "cell_type": "markdown",
   "metadata": {
    "id": "oQNZ-8egYNEm"
   },
   "source": [
    "**3).** Сколько NaN'ов в столбце Product_Category_3?  "
   ]
  },
  {
   "cell_type": "code",
   "execution_count": 39,
   "metadata": {
    "id": "nwxjErPQYNEn"
   },
   "outputs": [
    {
     "data": {
      "text/plain": [
       "User_ID                       373299\n",
       "Product_ID                    373299\n",
       "Gender                        373299\n",
       "Age                           373299\n",
       "Occupation                    373299\n",
       "City_Category                 373299\n",
       "Stay_In_Current_City_Years    373299\n",
       "Marital_Status                373299\n",
       "Product_Category_1            373299\n",
       "Product_Category_2            206313\n",
       "Product_Category_3                 0\n",
       "Purchase                      373299\n",
       "dtype: int64"
      ]
     },
     "execution_count": 39,
     "metadata": {},
     "output_type": "execute_result"
    }
   ],
   "source": [
    "# Ваш код здесь\n",
    "data[data['Product_Category_3'].isnull()].count()"
   ]
  },
  {
   "cell_type": "markdown",
   "metadata": {
    "id": "DxR8KgxBYNEs"
   },
   "source": [
    "**4).** Какую долю (вещественное число от 0 до 1, округлить до 4-го знака) от всех покупателей составляют ВМЕСТЕ мужчины от 26 до 35 лет и женщины старше 36 лет (то есть нужно учесть несколько возрастных категорий)? (речь не об уникальных ID, а о количестве таких строк)  "
   ]
  },
  {
   "cell_type": "code",
   "execution_count": 62,
   "metadata": {},
   "outputs": [
    {
     "data": {
      "text/html": [
       "<div>\n",
       "<style scoped>\n",
       "    .dataframe tbody tr th:only-of-type {\n",
       "        vertical-align: middle;\n",
       "    }\n",
       "\n",
       "    .dataframe tbody tr th {\n",
       "        vertical-align: top;\n",
       "    }\n",
       "\n",
       "    .dataframe thead th {\n",
       "        text-align: right;\n",
       "    }\n",
       "</style>\n",
       "<table border=\"1\" class=\"dataframe\">\n",
       "  <thead>\n",
       "    <tr style=\"text-align: right;\">\n",
       "      <th></th>\n",
       "      <th>User_ID</th>\n",
       "      <th>Product_ID</th>\n",
       "      <th>Gender</th>\n",
       "      <th>Age</th>\n",
       "      <th>Occupation</th>\n",
       "      <th>City_Category</th>\n",
       "      <th>Stay_In_Current_City_Years</th>\n",
       "      <th>Marital_Status</th>\n",
       "      <th>Product_Category_1</th>\n",
       "      <th>Product_Category_2</th>\n",
       "      <th>Product_Category_3</th>\n",
       "      <th>Purchase</th>\n",
       "    </tr>\n",
       "  </thead>\n",
       "  <tbody>\n",
       "    <tr>\n",
       "      <th>5</th>\n",
       "      <td>1000003</td>\n",
       "      <td>P00193542</td>\n",
       "      <td>M</td>\n",
       "      <td>26-35</td>\n",
       "      <td>15</td>\n",
       "      <td>A</td>\n",
       "      <td>3</td>\n",
       "      <td>0</td>\n",
       "      <td>1</td>\n",
       "      <td>2.0</td>\n",
       "      <td>NaN</td>\n",
       "      <td>15227</td>\n",
       "    </tr>\n",
       "    <tr>\n",
       "      <th>9</th>\n",
       "      <td>1000005</td>\n",
       "      <td>P00274942</td>\n",
       "      <td>M</td>\n",
       "      <td>26-35</td>\n",
       "      <td>20</td>\n",
       "      <td>A</td>\n",
       "      <td>1</td>\n",
       "      <td>1</td>\n",
       "      <td>8</td>\n",
       "      <td>NaN</td>\n",
       "      <td>NaN</td>\n",
       "      <td>7871</td>\n",
       "    </tr>\n",
       "    <tr>\n",
       "      <th>10</th>\n",
       "      <td>1000005</td>\n",
       "      <td>P00251242</td>\n",
       "      <td>M</td>\n",
       "      <td>26-35</td>\n",
       "      <td>20</td>\n",
       "      <td>A</td>\n",
       "      <td>1</td>\n",
       "      <td>1</td>\n",
       "      <td>5</td>\n",
       "      <td>11.0</td>\n",
       "      <td>NaN</td>\n",
       "      <td>5254</td>\n",
       "    </tr>\n",
       "    <tr>\n",
       "      <th>11</th>\n",
       "      <td>1000005</td>\n",
       "      <td>P00014542</td>\n",
       "      <td>M</td>\n",
       "      <td>26-35</td>\n",
       "      <td>20</td>\n",
       "      <td>A</td>\n",
       "      <td>1</td>\n",
       "      <td>1</td>\n",
       "      <td>8</td>\n",
       "      <td>NaN</td>\n",
       "      <td>NaN</td>\n",
       "      <td>3957</td>\n",
       "    </tr>\n",
       "    <tr>\n",
       "      <th>12</th>\n",
       "      <td>1000005</td>\n",
       "      <td>P00031342</td>\n",
       "      <td>M</td>\n",
       "      <td>26-35</td>\n",
       "      <td>20</td>\n",
       "      <td>A</td>\n",
       "      <td>1</td>\n",
       "      <td>1</td>\n",
       "      <td>8</td>\n",
       "      <td>NaN</td>\n",
       "      <td>NaN</td>\n",
       "      <td>6073</td>\n",
       "    </tr>\n",
       "    <tr>\n",
       "      <th>...</th>\n",
       "      <td>...</td>\n",
       "      <td>...</td>\n",
       "      <td>...</td>\n",
       "      <td>...</td>\n",
       "      <td>...</td>\n",
       "      <td>...</td>\n",
       "      <td>...</td>\n",
       "      <td>...</td>\n",
       "      <td>...</td>\n",
       "      <td>...</td>\n",
       "      <td>...</td>\n",
       "      <td>...</td>\n",
       "    </tr>\n",
       "    <tr>\n",
       "      <th>537540</th>\n",
       "      <td>1004732</td>\n",
       "      <td>P00124642</td>\n",
       "      <td>M</td>\n",
       "      <td>26-35</td>\n",
       "      <td>14</td>\n",
       "      <td>B</td>\n",
       "      <td>2</td>\n",
       "      <td>1</td>\n",
       "      <td>16</td>\n",
       "      <td>NaN</td>\n",
       "      <td>NaN</td>\n",
       "      <td>16610</td>\n",
       "    </tr>\n",
       "    <tr>\n",
       "      <th>537541</th>\n",
       "      <td>1004732</td>\n",
       "      <td>P00051442</td>\n",
       "      <td>M</td>\n",
       "      <td>26-35</td>\n",
       "      <td>14</td>\n",
       "      <td>B</td>\n",
       "      <td>2</td>\n",
       "      <td>1</td>\n",
       "      <td>8</td>\n",
       "      <td>17.0</td>\n",
       "      <td>NaN</td>\n",
       "      <td>9877</td>\n",
       "    </tr>\n",
       "    <tr>\n",
       "      <th>537542</th>\n",
       "      <td>1004732</td>\n",
       "      <td>P00085242</td>\n",
       "      <td>M</td>\n",
       "      <td>26-35</td>\n",
       "      <td>14</td>\n",
       "      <td>B</td>\n",
       "      <td>2</td>\n",
       "      <td>1</td>\n",
       "      <td>8</td>\n",
       "      <td>14.0</td>\n",
       "      <td>17.0</td>\n",
       "      <td>10036</td>\n",
       "    </tr>\n",
       "    <tr>\n",
       "      <th>537543</th>\n",
       "      <td>1004732</td>\n",
       "      <td>P00117242</td>\n",
       "      <td>M</td>\n",
       "      <td>26-35</td>\n",
       "      <td>14</td>\n",
       "      <td>B</td>\n",
       "      <td>2</td>\n",
       "      <td>1</td>\n",
       "      <td>8</td>\n",
       "      <td>17.0</td>\n",
       "      <td>NaN</td>\n",
       "      <td>7802</td>\n",
       "    </tr>\n",
       "    <tr>\n",
       "      <th>537544</th>\n",
       "      <td>1004732</td>\n",
       "      <td>P00093342</td>\n",
       "      <td>M</td>\n",
       "      <td>26-35</td>\n",
       "      <td>14</td>\n",
       "      <td>B</td>\n",
       "      <td>2</td>\n",
       "      <td>1</td>\n",
       "      <td>1</td>\n",
       "      <td>8.0</td>\n",
       "      <td>18.0</td>\n",
       "      <td>11535</td>\n",
       "    </tr>\n",
       "  </tbody>\n",
       "</table>\n",
       "<p>165342 rows × 12 columns</p>\n",
       "</div>"
      ],
      "text/plain": [
       "        User_ID Product_ID Gender    Age  Occupation City_Category  \\\n",
       "5       1000003  P00193542      M  26-35          15             A   \n",
       "9       1000005  P00274942      M  26-35          20             A   \n",
       "10      1000005  P00251242      M  26-35          20             A   \n",
       "11      1000005  P00014542      M  26-35          20             A   \n",
       "12      1000005  P00031342      M  26-35          20             A   \n",
       "...         ...        ...    ...    ...         ...           ...   \n",
       "537540  1004732  P00124642      M  26-35          14             B   \n",
       "537541  1004732  P00051442      M  26-35          14             B   \n",
       "537542  1004732  P00085242      M  26-35          14             B   \n",
       "537543  1004732  P00117242      M  26-35          14             B   \n",
       "537544  1004732  P00093342      M  26-35          14             B   \n",
       "\n",
       "       Stay_In_Current_City_Years  Marital_Status  Product_Category_1  \\\n",
       "5                               3               0                   1   \n",
       "9                               1               1                   8   \n",
       "10                              1               1                   5   \n",
       "11                              1               1                   8   \n",
       "12                              1               1                   8   \n",
       "...                           ...             ...                 ...   \n",
       "537540                          2               1                  16   \n",
       "537541                          2               1                   8   \n",
       "537542                          2               1                   8   \n",
       "537543                          2               1                   8   \n",
       "537544                          2               1                   1   \n",
       "\n",
       "        Product_Category_2  Product_Category_3  Purchase  \n",
       "5                      2.0                 NaN     15227  \n",
       "9                      NaN                 NaN      7871  \n",
       "10                    11.0                 NaN      5254  \n",
       "11                     NaN                 NaN      3957  \n",
       "12                     NaN                 NaN      6073  \n",
       "...                    ...                 ...       ...  \n",
       "537540                 NaN                 NaN     16610  \n",
       "537541                17.0                 NaN      9877  \n",
       "537542                14.0                17.0     10036  \n",
       "537543                17.0                 NaN      7802  \n",
       "537544                 8.0                18.0     11535  \n",
       "\n",
       "[165342 rows x 12 columns]"
      ]
     },
     "execution_count": 62,
     "metadata": {},
     "output_type": "execute_result"
    }
   ],
   "source": [
    "data.loc[((data.Gender == 'M') & (data.Age == '26-35') )]"
   ]
  },
  {
   "cell_type": "code",
   "execution_count": 64,
   "metadata": {},
   "outputs": [
    {
     "data": {
      "text/html": [
       "<div>\n",
       "<style scoped>\n",
       "    .dataframe tbody tr th:only-of-type {\n",
       "        vertical-align: middle;\n",
       "    }\n",
       "\n",
       "    .dataframe tbody tr th {\n",
       "        vertical-align: top;\n",
       "    }\n",
       "\n",
       "    .dataframe thead th {\n",
       "        text-align: right;\n",
       "    }\n",
       "</style>\n",
       "<table border=\"1\" class=\"dataframe\">\n",
       "  <thead>\n",
       "    <tr style=\"text-align: right;\">\n",
       "      <th></th>\n",
       "      <th>User_ID</th>\n",
       "      <th>Product_ID</th>\n",
       "      <th>Gender</th>\n",
       "      <th>Age</th>\n",
       "      <th>Occupation</th>\n",
       "      <th>City_Category</th>\n",
       "      <th>Stay_In_Current_City_Years</th>\n",
       "      <th>Marital_Status</th>\n",
       "      <th>Product_Category_1</th>\n",
       "      <th>Product_Category_2</th>\n",
       "      <th>Product_Category_3</th>\n",
       "      <th>Purchase</th>\n",
       "    </tr>\n",
       "  </thead>\n",
       "  <tbody>\n",
       "    <tr>\n",
       "      <th>14</th>\n",
       "      <td>1000006</td>\n",
       "      <td>P00231342</td>\n",
       "      <td>F</td>\n",
       "      <td>51-55</td>\n",
       "      <td>9</td>\n",
       "      <td>A</td>\n",
       "      <td>1</td>\n",
       "      <td>0</td>\n",
       "      <td>5</td>\n",
       "      <td>8.0</td>\n",
       "      <td>14.0</td>\n",
       "      <td>5378</td>\n",
       "    </tr>\n",
       "    <tr>\n",
       "      <th>15</th>\n",
       "      <td>1000006</td>\n",
       "      <td>P00190242</td>\n",
       "      <td>F</td>\n",
       "      <td>51-55</td>\n",
       "      <td>9</td>\n",
       "      <td>A</td>\n",
       "      <td>1</td>\n",
       "      <td>0</td>\n",
       "      <td>4</td>\n",
       "      <td>5.0</td>\n",
       "      <td>NaN</td>\n",
       "      <td>2079</td>\n",
       "    </tr>\n",
       "    <tr>\n",
       "      <th>16</th>\n",
       "      <td>1000006</td>\n",
       "      <td>P0096642</td>\n",
       "      <td>F</td>\n",
       "      <td>51-55</td>\n",
       "      <td>9</td>\n",
       "      <td>A</td>\n",
       "      <td>1</td>\n",
       "      <td>0</td>\n",
       "      <td>2</td>\n",
       "      <td>3.0</td>\n",
       "      <td>4.0</td>\n",
       "      <td>13055</td>\n",
       "    </tr>\n",
       "    <tr>\n",
       "      <th>17</th>\n",
       "      <td>1000006</td>\n",
       "      <td>P00058442</td>\n",
       "      <td>F</td>\n",
       "      <td>51-55</td>\n",
       "      <td>9</td>\n",
       "      <td>A</td>\n",
       "      <td>1</td>\n",
       "      <td>0</td>\n",
       "      <td>5</td>\n",
       "      <td>14.0</td>\n",
       "      <td>NaN</td>\n",
       "      <td>8851</td>\n",
       "    </tr>\n",
       "    <tr>\n",
       "      <th>29</th>\n",
       "      <td>1000010</td>\n",
       "      <td>P00085942</td>\n",
       "      <td>F</td>\n",
       "      <td>36-45</td>\n",
       "      <td>1</td>\n",
       "      <td>B</td>\n",
       "      <td>4+</td>\n",
       "      <td>1</td>\n",
       "      <td>2</td>\n",
       "      <td>4.0</td>\n",
       "      <td>8.0</td>\n",
       "      <td>16352</td>\n",
       "    </tr>\n",
       "    <tr>\n",
       "      <th>...</th>\n",
       "      <td>...</td>\n",
       "      <td>...</td>\n",
       "      <td>...</td>\n",
       "      <td>...</td>\n",
       "      <td>...</td>\n",
       "      <td>...</td>\n",
       "      <td>...</td>\n",
       "      <td>...</td>\n",
       "      <td>...</td>\n",
       "      <td>...</td>\n",
       "      <td>...</td>\n",
       "      <td>...</td>\n",
       "    </tr>\n",
       "    <tr>\n",
       "      <th>537472</th>\n",
       "      <td>1004726</td>\n",
       "      <td>P00037142</td>\n",
       "      <td>F</td>\n",
       "      <td>36-45</td>\n",
       "      <td>16</td>\n",
       "      <td>C</td>\n",
       "      <td>2</td>\n",
       "      <td>1</td>\n",
       "      <td>1</td>\n",
       "      <td>2.0</td>\n",
       "      <td>5.0</td>\n",
       "      <td>11845</td>\n",
       "    </tr>\n",
       "    <tr>\n",
       "      <th>537473</th>\n",
       "      <td>1004726</td>\n",
       "      <td>P00058442</td>\n",
       "      <td>F</td>\n",
       "      <td>36-45</td>\n",
       "      <td>16</td>\n",
       "      <td>C</td>\n",
       "      <td>2</td>\n",
       "      <td>1</td>\n",
       "      <td>5</td>\n",
       "      <td>14.0</td>\n",
       "      <td>NaN</td>\n",
       "      <td>5155</td>\n",
       "    </tr>\n",
       "    <tr>\n",
       "      <th>537474</th>\n",
       "      <td>1004726</td>\n",
       "      <td>P00303242</td>\n",
       "      <td>F</td>\n",
       "      <td>36-45</td>\n",
       "      <td>16</td>\n",
       "      <td>C</td>\n",
       "      <td>2</td>\n",
       "      <td>1</td>\n",
       "      <td>5</td>\n",
       "      <td>8.0</td>\n",
       "      <td>NaN</td>\n",
       "      <td>8626</td>\n",
       "    </tr>\n",
       "    <tr>\n",
       "      <th>537475</th>\n",
       "      <td>1004727</td>\n",
       "      <td>P00295942</td>\n",
       "      <td>F</td>\n",
       "      <td>55+</td>\n",
       "      <td>0</td>\n",
       "      <td>C</td>\n",
       "      <td>3</td>\n",
       "      <td>0</td>\n",
       "      <td>2</td>\n",
       "      <td>5.0</td>\n",
       "      <td>15.0</td>\n",
       "      <td>12826</td>\n",
       "    </tr>\n",
       "    <tr>\n",
       "      <th>537476</th>\n",
       "      <td>1004727</td>\n",
       "      <td>P00351142</td>\n",
       "      <td>F</td>\n",
       "      <td>55+</td>\n",
       "      <td>0</td>\n",
       "      <td>C</td>\n",
       "      <td>3</td>\n",
       "      <td>0</td>\n",
       "      <td>1</td>\n",
       "      <td>8.0</td>\n",
       "      <td>17.0</td>\n",
       "      <td>15898</td>\n",
       "    </tr>\n",
       "  </tbody>\n",
       "</table>\n",
       "<p>53839 rows × 12 columns</p>\n",
       "</div>"
      ],
      "text/plain": [
       "        User_ID Product_ID Gender    Age  Occupation City_Category  \\\n",
       "14      1000006  P00231342      F  51-55           9             A   \n",
       "15      1000006  P00190242      F  51-55           9             A   \n",
       "16      1000006   P0096642      F  51-55           9             A   \n",
       "17      1000006  P00058442      F  51-55           9             A   \n",
       "29      1000010  P00085942      F  36-45           1             B   \n",
       "...         ...        ...    ...    ...         ...           ...   \n",
       "537472  1004726  P00037142      F  36-45          16             C   \n",
       "537473  1004726  P00058442      F  36-45          16             C   \n",
       "537474  1004726  P00303242      F  36-45          16             C   \n",
       "537475  1004727  P00295942      F    55+           0             C   \n",
       "537476  1004727  P00351142      F    55+           0             C   \n",
       "\n",
       "       Stay_In_Current_City_Years  Marital_Status  Product_Category_1  \\\n",
       "14                              1               0                   5   \n",
       "15                              1               0                   4   \n",
       "16                              1               0                   2   \n",
       "17                              1               0                   5   \n",
       "29                             4+               1                   2   \n",
       "...                           ...             ...                 ...   \n",
       "537472                          2               1                   1   \n",
       "537473                          2               1                   5   \n",
       "537474                          2               1                   5   \n",
       "537475                          3               0                   2   \n",
       "537476                          3               0                   1   \n",
       "\n",
       "        Product_Category_2  Product_Category_3  Purchase  \n",
       "14                     8.0                14.0      5378  \n",
       "15                     5.0                 NaN      2079  \n",
       "16                     3.0                 4.0     13055  \n",
       "17                    14.0                 NaN      8851  \n",
       "29                     4.0                 8.0     16352  \n",
       "...                    ...                 ...       ...  \n",
       "537472                 2.0                 5.0     11845  \n",
       "537473                14.0                 NaN      5155  \n",
       "537474                 8.0                 NaN      8626  \n",
       "537475                 5.0                15.0     12826  \n",
       "537476                 8.0                17.0     15898  \n",
       "\n",
       "[53839 rows x 12 columns]"
      ]
     },
     "execution_count": 64,
     "metadata": {},
     "output_type": "execute_result"
    }
   ],
   "source": [
    "data.loc[((data.Gender == 'F') & (data.Age.isin(['36-45', '46-50', '51-55', '55+'])) ) ]"
   ]
  },
  {
   "cell_type": "code",
   "execution_count": 69,
   "metadata": {
    "id": "ICK0SOJJYNEt"
   },
   "outputs": [
    {
     "data": {
      "text/plain": [
       "User_ID                       219181\n",
       "Product_ID                    219181\n",
       "Gender                        219181\n",
       "Age                           219181\n",
       "Occupation                    219181\n",
       "City_Category                 219181\n",
       "Stay_In_Current_City_Years    219181\n",
       "Marital_Status                219181\n",
       "Product_Category_1            219181\n",
       "Product_Category_2            151153\n",
       "Product_Category_3             67598\n",
       "Purchase                      219181\n",
       "dtype: int64"
      ]
     },
     "execution_count": 69,
     "metadata": {},
     "output_type": "execute_result"
    }
   ],
   "source": [
    "# Ваш код здесь\n",
    "data.loc[((data.Gender == 'M') & (data.Age == '26-35') ) | ((data.Gender == 'F') & (data.Age.isin(['36-45', '46-50', '51-55', '55+'])) ) ].count()"
   ]
  },
  {
   "cell_type": "code",
   "execution_count": 70,
   "metadata": {},
   "outputs": [
    {
     "data": {
      "text/plain": [
       "User_ID                       537577\n",
       "Product_ID                    537577\n",
       "Gender                        537577\n",
       "Age                           537577\n",
       "Occupation                    537577\n",
       "City_Category                 537577\n",
       "Stay_In_Current_City_Years    537577\n",
       "Marital_Status                537577\n",
       "Product_Category_1            537577\n",
       "Product_Category_2            370591\n",
       "Product_Category_3            164278\n",
       "Purchase                      537577\n",
       "dtype: int64"
      ]
     },
     "execution_count": 70,
     "metadata": {},
     "output_type": "execute_result"
    }
   ],
   "source": [
    "data.count()"
   ]
  },
  {
   "cell_type": "code",
   "execution_count": 71,
   "metadata": {},
   "outputs": [
    {
     "data": {
      "text/plain": [
       "0.4077201963625676"
      ]
     },
     "execution_count": 71,
     "metadata": {},
     "output_type": "execute_result"
    }
   ],
   "source": [
    "219181/ 537577"
   ]
  },
  {
   "cell_type": "markdown",
   "metadata": {
    "id": "Vv1xTr2YYNEw"
   },
   "source": [
    "---"
   ]
  },
  {
   "cell_type": "markdown",
   "metadata": {
    "id": "ElI6jhXnYNEx"
   },
   "source": [
    "Больше про pandas можно найти по этом полезным ссылкам:"
   ]
  },
  {
   "cell_type": "markdown",
   "metadata": {
    "id": "itKnSrTFYNEx"
   },
   "source": [
    "* Официальные туториалы: http://pandas.pydata.org/pandas-docs/stable/tutorials.html"
   ]
  },
  {
   "cell_type": "markdown",
   "metadata": {
    "id": "5anYf9hGYNEy"
   },
   "source": [
    "* Статья на Хабре от [OpenDataScience сообщества](http://ods.ai/)**:** https://habr.com/company/ods/blog/322626/"
   ]
  },
  {
   "cell_type": "markdown",
   "metadata": {
    "id": "RtVuI14DYNEz"
   },
   "source": [
    "* Подробный гайд: https://media.readthedocs.org/pdf/pandasguide/latest/pandasguide.pdf"
   ]
  },
  {
   "cell_type": "markdown",
   "metadata": {
    "id": "MySaKecMYNE0"
   },
   "source": [
    "Главное в работе с новыми библиотеками -- не бояться тыкать в разные функции, смотреть типы возвращаемых объектов и активно пользоваться Яндексом, а ещё лучше понимать всё из docstring'а (`Shift+Tab` при нахождении курсора внутри скобок функции)."
   ]
  }
 ],
 "metadata": {
  "colab": {
   "collapsed_sections": [],
   "name": "[homework]pandas.ipynb",
   "provenance": []
  },
  "kernelspec": {
   "display_name": "Python 3 (ipykernel)",
   "language": "python",
   "name": "python3"
  },
  "language_info": {
   "codemirror_mode": {
    "name": "ipython",
    "version": 3
   },
   "file_extension": ".py",
   "mimetype": "text/x-python",
   "name": "python",
   "nbconvert_exporter": "python",
   "pygments_lexer": "ipython3",
   "version": "3.9.7"
  }
 },
 "nbformat": 4,
 "nbformat_minor": 1
}
