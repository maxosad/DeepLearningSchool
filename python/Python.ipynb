{
 "cells": [
  {
   "cell_type": "code",
   "execution_count": 1,
   "id": "6348fd56",
   "metadata": {},
   "outputs": [
    {
     "name": "stdout",
     "output_type": "stream",
     "text": [
      "\"hello world\"\n"
     ]
    }
   ],
   "source": [
    "echo \"hello world\""
   ]
  },
  {
   "cell_type": "code",
   "execution_count": 2,
   "id": "eebe32ee",
   "metadata": {},
   "outputs": [
    {
     "data": {
      "text/plain": [
       "'C:\\\\Users\\\\Maxim\\\\Studing\\\\dl'"
      ]
     },
     "execution_count": 2,
     "metadata": {},
     "output_type": "execute_result"
    }
   ],
   "source": [
    "pwd\n"
   ]
  },
  {
   "cell_type": "code",
   "execution_count": 1,
   "id": "b29014a5",
   "metadata": {},
   "outputs": [],
   "source": [
    "l = [1,2,3]"
   ]
  },
  {
   "cell_type": "code",
   "execution_count": 2,
   "id": "de035272",
   "metadata": {},
   "outputs": [
    {
     "data": {
      "text/plain": [
       "3"
      ]
     },
     "execution_count": 2,
     "metadata": {},
     "output_type": "execute_result"
    }
   ],
   "source": [
    "l.pop()"
   ]
  },
  {
   "cell_type": "code",
   "execution_count": 3,
   "id": "64277e83",
   "metadata": {},
   "outputs": [
    {
     "data": {
      "text/plain": [
       "[1, 2]"
      ]
     },
     "execution_count": 3,
     "metadata": {},
     "output_type": "execute_result"
    }
   ],
   "source": [
    "l"
   ]
  },
  {
   "cell_type": "code",
   "execution_count": 1,
   "id": "bf8075b3",
   "metadata": {},
   "outputs": [
    {
     "data": {
      "text/plain": [
       "range(0, 3)"
      ]
     },
     "execution_count": 1,
     "metadata": {},
     "output_type": "execute_result"
    }
   ],
   "source": [
    "range(3)"
   ]
  },
  {
   "cell_type": "code",
   "execution_count": 2,
   "id": "d1ac877b",
   "metadata": {},
   "outputs": [
    {
     "data": {
      "text/plain": [
       "range(0, 3)"
      ]
     },
     "execution_count": 2,
     "metadata": {},
     "output_type": "execute_result"
    }
   ],
   "source": [
    "range(0, 3)\n"
   ]
  },
  {
   "cell_type": "markdown",
   "id": "14404609",
   "metadata": {},
   "source": [
    "Реализуйте функцию almost_double_factorial(n), вычисляющую произведение всех нечётных натуральных чисел, не превосходящих nn.\n",
    "В качестве аргумента ей передаётся натуральное (ноль -- натуральное) число n⩽100.\n",
    "Возвращаемое значение - вычисленное произведение.\n",
    "\n",
    "Комментарий. В случае, если n = 0, требуется вернуть 1.\n",
    "\n",
    "В этом задании функция print вам не понадобится. Результаты выполнения функций нужно возвращать, а не печатать!"
   ]
  },
  {
   "cell_type": "code",
   "execution_count": 11,
   "id": "c9256f88",
   "metadata": {},
   "outputs": [],
   "source": [
    "from functools import reduce\n",
    "def almost_double_factorial(n):\n",
    "    # YOUR CODE\n",
    "    if (n == 0): \n",
    "        return 1\n",
    "    return reduce(lambda x, y: x * y, [i for i in range(1, n+1, 2)] )\n"
   ]
  },
  {
   "cell_type": "code",
   "execution_count": 12,
   "id": "b0dc1cd4",
   "metadata": {},
   "outputs": [
    {
     "data": {
      "text/plain": [
       "15"
      ]
     },
     "execution_count": 12,
     "metadata": {},
     "output_type": "execute_result"
    }
   ],
   "source": [
    "almost_double_factorial(5)"
   ]
  },
  {
   "cell_type": "markdown",
   "id": "55660414",
   "metadata": {},
   "source": [
    "Пусть у нас есть следующий список, в котором элементы -- tuple из строк:\n",
    "\n",
    "items = [('one', 'two'), ('three', 'four'), ('five', 'six'), ('string', 'a')]\n",
    "Мы хотим отсортировать этот список по последней букве второго элемента каждого tuple, т.е. получить такой список:\n",
    "\n",
    "sorted_items = [ ('string', 'a'), ('one', 'two'), ('three', 'four'), ('five', 'six'),]\n",
    "Напишите код вместо \"<YOUR CODE\" в следующем выражении, чтобы получить верную сортировку.\n",
    "\n",
    "sorted_items = sorted(items, key=lambda x: <YOUR CODE>)\n",
    " \n",
    "\n",
    "P.S.: в ответе не должно фигурировать слово len .\n",
    "\n",
    "В этом задании функция print вам не понадобится. Необходимо лишь заполнить пропуск."
   ]
  },
  {
   "cell_type": "code",
   "execution_count": 16,
   "id": "b93b8051",
   "metadata": {},
   "outputs": [],
   "source": [
    "items = [('one', 'two'), ('three', 'four'), ('five', 'six'), ('string', 'a')]"
   ]
  },
  {
   "cell_type": "code",
   "execution_count": 17,
   "id": "802e0bc7",
   "metadata": {},
   "outputs": [],
   "source": [
    "# items объявлять не нужно\n",
    "sorted_items = sorted(items, key=lambda x: x[1][-1])\n"
   ]
  },
  {
   "cell_type": "markdown",
   "id": "51159b49",
   "metadata": {},
   "source": [
    "Дан list x:\n",
    "\n",
    "x = [1, 2, 3, 4, 5]\n",
    "x[<YOUR CODE>] = [-1, -3, -5]\n",
    "\n",
    "x\n",
    "Заполните слайс вместо <YOUR CODE>, чтобы результатом стал следующий list:\n",
    "\n",
    "[-5, 2, -3, 4, -1]\n",
    "Ничего больше менять в коде, например, создавать x или печатать его, не нужно! "
   ]
  },
  {
   "cell_type": "code",
   "execution_count": 48,
   "id": "5a26e7a6",
   "metadata": {},
   "outputs": [],
   "source": [
    "x = [1, 2, 3, 4, 5]"
   ]
  },
  {
   "cell_type": "code",
   "execution_count": 50,
   "id": "ad4c0de3",
   "metadata": {},
   "outputs": [
    {
     "data": {
      "text/plain": [
       "[-5, 2, -3, 4, -1]"
      ]
     },
     "execution_count": 50,
     "metadata": {},
     "output_type": "execute_result"
    }
   ],
   "source": [
    "x[::-2]  = [-1, -3, -5]\n",
    "\n",
    "x"
   ]
  },
  {
   "cell_type": "markdown",
   "id": "4195f5de",
   "metadata": {},
   "source": [
    "Дан массив A[0,\\ldots,N-1]A[0,…,N−1]. Реализуйте функцию cumsum_and_erase(...), принимающую один обязательный аргумент AA и один опциональный аргумент eraseerase, по умолчанию равный 1.\n",
    "\n",
    "Функция должна выполнять следующие действия: \n",
    "\n",
    "сформировать массив B[0,\\ldots, N-1]B[0,…,N−1], где B_i = A_0 + \\ldots + A_{i}B \n",
    "i\n",
    "​\n",
    " =A \n",
    "0\n",
    "​\n",
    " +…+A \n",
    "i\n",
    "​\n",
    "  --- массив частичных сумм массива AA;\n",
    "удалить из массива BB все элементы, равные параметру eraseerase; получить массив C;\n",
    "вернуть C в качестве ответа\n",
    "Постарайтесь сделать это за время O(N)O(N) без использования Numpy.\n",
    "\n",
    "Пример работы функции: \n",
    "\n",
    "A = [5, 1, 4, 5, 14] \n",
    "B = cumsum_and_erase(A, erase=10) \n",
    "assert B == [5, 6, 15, 29], \"Something is wrong! Please try again\"\n",
    "В этом задании функция print вам не понадобится. Результаты выполнения функций нужно возвращать, а не печатать! "
   ]
  },
  {
   "cell_type": "code",
   "execution_count": 60,
   "id": "e4d5ed39",
   "metadata": {},
   "outputs": [],
   "source": [
    "def cumsum_and_erase(arr, erase = 1):\n",
    "    #YOUR CODE\n",
    "    B = []\n",
    "    s = 0\n",
    "    for i in arr:\n",
    "        s += i\n",
    "        if (s != erase):\n",
    "            B.append(s)\n",
    "    return B"
   ]
  },
  {
   "cell_type": "code",
   "execution_count": 61,
   "id": "e3587184",
   "metadata": {},
   "outputs": [],
   "source": [
    "A = [5, 1, 4, 5, 14] \n",
    "B = cumsum_and_erase(A, erase=10) "
   ]
  },
  {
   "cell_type": "code",
   "execution_count": 62,
   "id": "10206596",
   "metadata": {},
   "outputs": [
    {
     "data": {
      "text/plain": [
       "[5, 6, 15, 29]"
      ]
     },
     "execution_count": 62,
     "metadata": {},
     "output_type": "execute_result"
    }
   ],
   "source": [
    "B"
   ]
  },
  {
   "cell_type": "code",
   "execution_count": 63,
   "id": "44b442d6",
   "metadata": {},
   "outputs": [],
   "source": [
    "assert B == [5, 6, 15, 29]"
   ]
  },
  {
   "cell_type": "markdown",
   "id": "390c0ba8",
   "metadata": {},
   "source": [
    "Обработка текста\n",
    "\n",
    "Дан список текстов, слова в которых разделены пробелами (можно считать, что знаков препинания нет). Часть слов является \"мусорными\": в них присутствуют цифры и спецсимволы. Отфильтруйте такие слова из каждого текста.\n",
    "\n",
    "Используйте функции str.split, str.isalpha, str.join, а также list comprehensions.\n",
    "\n",
    "Пример ввода:\n",
    "\n",
    "['1 thousand devils', 'My name is 9Pasha', 'Room #125 costs $100', '888']\n",
    "\n",
    "Пример вывода: \n",
    "\n",
    "['thousand devils', 'My name is', 'Room costs', '']\n",
    "\n",
    "В этом задании функция print вам не понадобится. Результаты выполнения функций нужно возвращать, а не печатать!\n",
    "\n",
    "Если в тексте все слова являются мусорными, текст должен преобразоваться в пустую строку."
   ]
  },
  {
   "cell_type": "code",
   "execution_count": 4,
   "id": "e224fc75",
   "metadata": {},
   "outputs": [],
   "source": [
    "st = 'qwr1'"
   ]
  },
  {
   "cell_type": "code",
   "execution_count": 5,
   "id": "cad02c4a",
   "metadata": {},
   "outputs": [
    {
     "data": {
      "text/plain": [
       "False"
      ]
     },
     "execution_count": 5,
     "metadata": {},
     "output_type": "execute_result"
    }
   ],
   "source": [
    "st.isalpha()"
   ]
  },
  {
   "cell_type": "code",
   "execution_count": 48,
   "id": "91466e4f",
   "metadata": {},
   "outputs": [],
   "source": [
    "sentences = ['1 thousand devils', 'My name is 9Pasha', 'Room #125 costs $100', '888']"
   ]
  },
  {
   "cell_type": "code",
   "execution_count": 93,
   "id": "19e832b0",
   "metadata": {},
   "outputs": [],
   "source": [
    "def process(sentences):\n",
    "        \n",
    "    return [' '.join([x for x in i.split(' ') if x.isalpha()]) for i in sentences]"
   ]
  },
  {
   "cell_type": "code",
   "execution_count": 94,
   "id": "897036b6",
   "metadata": {},
   "outputs": [
    {
     "data": {
      "text/plain": [
       "['thousand devils', 'My name is', 'Room costs', '']"
      ]
     },
     "execution_count": 94,
     "metadata": {},
     "output_type": "execute_result"
    }
   ],
   "source": [
    "process(sentences)"
   ]
  },
  {
   "cell_type": "markdown",
   "id": "bf6a3285",
   "metadata": {},
   "source": [
    "Собственный класс \"Нейрон\"\n",
    "\n",
    "Реализуйте класс \"Нейрон\", у которого будет несколько методов: \n",
    "\n",
    " __init__. Принимает на вход массив весов нейрона --- w = (w_1, \\ldots, w_n)w=(w \n",
    "1\n",
    "​\n",
    " ,…,w \n",
    "n\n",
    "​\n",
    " ), а также функцию активации ff (аргумент по умолчанию f(x) = xf(x)=x). Сохраняет веса и функцию внутри класса.\n",
    "forward. Принимает на вход массив x = (x_1, \\ldots, x_n)x=(x \n",
    "1\n",
    "​\n",
    " ,…,x \n",
    "n\n",
    "​\n",
    " ) --- входы нейрона. Возвращает f(w_1x_1 + \\ldots + w_nx_n)f(w \n",
    "1\n",
    "​\n",
    " x \n",
    "1\n",
    "​\n",
    " +…+w \n",
    "n\n",
    "​\n",
    " x \n",
    "n\n",
    "​\n",
    " ).\n",
    "backlog. Возвращает массив xx, который подавался на вход функции forward при её последнем вызове. Если ранее функция forward не вызывалось, возвращает None.\n",
    "В этом задании функция print вам не понадобится. Результаты выполнения функций нужно возвращать, а не печатать!"
   ]
  },
  {
   "cell_type": "code",
   "execution_count": 134,
   "id": "4076700a",
   "metadata": {},
   "outputs": [],
   "source": [
    "class Neuron:\n",
    "\n",
    "    def __init__(self, w, f = lambda x: x):\n",
    "        #YOUR CODE HERE\n",
    "        self.w = w\n",
    "        self.last = None\n",
    "        self.f = f\n",
    "\n",
    "    def forward(self, x):\n",
    "        self.last = x\n",
    "        return self.f( sum([ x[i]*self.w[i] for i in range(len(x)) ]))\n",
    "        #YOUR CODE HERE\n",
    "\n",
    "    def backlog(self):\n",
    "        return self.last\n",
    "        #YOUR CODE HERE"
   ]
  },
  {
   "cell_type": "code",
   "execution_count": 135,
   "id": "03a52b00",
   "metadata": {},
   "outputs": [],
   "source": [
    "neuron = Neuron([1,2])"
   ]
  },
  {
   "cell_type": "code",
   "execution_count": 136,
   "id": "308c128b",
   "metadata": {},
   "outputs": [
    {
     "data": {
      "text/plain": [
       "5"
      ]
     },
     "execution_count": 136,
     "metadata": {},
     "output_type": "execute_result"
    }
   ],
   "source": [
    "neuron.forward([1,2])"
   ]
  },
  {
   "cell_type": "code",
   "execution_count": 125,
   "id": "bd43936b",
   "metadata": {},
   "outputs": [
    {
     "name": "stdout",
     "output_type": "stream",
     "text": [
      "3\n"
     ]
    }
   ],
   "source": [
    "print(neuron.backlog())"
   ]
  },
  {
   "cell_type": "code",
   "execution_count": 126,
   "id": "29baebf2",
   "metadata": {},
   "outputs": [
    {
     "name": "stdout",
     "output_type": "stream",
     "text": [
      "Object `[]` not found.\n"
     ]
    }
   ],
   "source": [
    "?[]"
   ]
  },
  {
   "cell_type": "code",
   "execution_count": null,
   "id": "faf20757",
   "metadata": {},
   "outputs": [],
   "source": []
  }
 ],
 "metadata": {
  "kernelspec": {
   "display_name": "Python 3 (ipykernel)",
   "language": "python",
   "name": "python3"
  },
  "language_info": {
   "codemirror_mode": {
    "name": "ipython",
    "version": 3
   },
   "file_extension": ".py",
   "mimetype": "text/x-python",
   "name": "python",
   "nbconvert_exporter": "python",
   "pygments_lexer": "ipython3",
   "version": "3.9.7"
  }
 },
 "nbformat": 4,
 "nbformat_minor": 5
}
