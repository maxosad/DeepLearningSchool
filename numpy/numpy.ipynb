{
 "cells": [
  {
   "cell_type": "markdown",
   "id": "0ace2e35",
   "metadata": {},
   "source": [
    "# Перемножение матриц\n",
    "Напишите две функции, каждая из которых перемножает две квадратные матрицы: одна без использования встроенных функций numpy, а другая --- с помощью numpy. На вход первой задаче подаются списки размера size по size элементов в каждом. На вход второй задаче подаются объекты типа np.ndarray --- квадратные матрицы одинакового размера. \n",
    "\n",
    "Первая функция должна возвращать список списков, а вторая -- np.array."
   ]
  },
  {
   "cell_type": "code",
   "execution_count": 32,
   "id": "70697f63",
   "metadata": {},
   "outputs": [],
   "source": [
    "import numpy as np\n",
    "\n",
    "def list_mult(first, second):\n",
    "    n = len(first)\n",
    "    return [first[i] * second[i] for i in range(n)]\n",
    "\n",
    "def no_numpy_mult(first, second):\n",
    "    \"\"\"\n",
    "    param first: list of \"size\" lists, each contains \"size\" floats\n",
    "    param second: list of \"size\" lists, each contains \"size\" floats\n",
    "    \"\"\"\n",
    "\n",
    "    #YOUR CODE: please do not use numpy\n",
    "    n = len(second)\n",
    "    stolb = [[x[i] for x in second ] for i in range(n)]\n",
    "    result = [[sum(list_mult(first[i], stolb[j])) for j in range(n)] for i in range(n) ]#YOUR CODE: create list of lists, not np.array\n",
    "    return result\n",
    "\n",
    "def numpy_mult(first, second):\n",
    "    \"\"\"\n",
    "    param first: np.array[size, size]\n",
    "    param second: np.array[size, size]\n",
    "    \"\"\"\n",
    "\n",
    "    #YOUR CODE: please use numpy\n",
    "\n",
    "    result = first @ second#YOUR CODE: create np.array\n",
    "    return result"
   ]
  },
  {
   "cell_type": "markdown",
   "id": "8be36e4e",
   "metadata": {},
   "source": [
    "Вам подаются на вход два вектора a и b в трехмерном пространстве. Реализуйте их скалярное произведение с помощью numpy и без. "
   ]
  },
  {
   "cell_type": "code",
   "execution_count": 103,
   "id": "56de9ef2",
   "metadata": {},
   "outputs": [
    {
     "data": {
      "text/plain": [
       "1.7320508075688772"
      ]
     },
     "execution_count": 103,
     "metadata": {},
     "output_type": "execute_result"
    }
   ],
   "source": [
    "from math import sqrt\n",
    "v3 = [1,1,1]\n",
    "v3sq = [i ** 2 for i in v3]\n",
    "coss = sqrt(sum(v3sq))\n",
    "coss"
   ]
  },
  {
   "cell_type": "code",
   "execution_count": 130,
   "id": "1fc0e766",
   "metadata": {},
   "outputs": [],
   "source": [
    "from math import sqrt\n",
    "import numpy as np\n",
    "def d(v):\n",
    "    vsq = [i ** 2 for i in v]\n",
    "    return sqrt(sum(vsq))\n",
    "\n",
    "def no_numpy_scalar(v1, v2):\n",
    "    #param v1, v2: lists of 3 ints\n",
    "    #YOUR CODE: please do not use numpy\n",
    "\n",
    "    n = len(v1)\n",
    "    v3 = [v1[i] - v2[i] for i in range(n)]\n",
    "    d1 = d(v1) * 1.0\n",
    "    d2 = d(v2) * 1.0\n",
    "    d3 = d(v3) * 1.0 \n",
    "    coss = (d1**2 + d2**2 - d3**2)/(2*d1*d2)\n",
    "    return d1 * d2 * coss\n",
    "\n",
    "def numpy_scalar (v1, v2):\n",
    "    #param v1, v2: np.arrays[3]\n",
    "    #YOUR CODE\n",
    "\n",
    "    result = np.dot(v1,v2)#YOUR CODE\n",
    "    return result"
   ]
  },
  {
   "cell_type": "code",
   "execution_count": 131,
   "id": "6590d52f",
   "metadata": {},
   "outputs": [],
   "source": [
    "a = [1,1,1]\n",
    "b = [2,2,2]"
   ]
  },
  {
   "cell_type": "code",
   "execution_count": 132,
   "id": "978c5791",
   "metadata": {},
   "outputs": [],
   "source": [
    "npa = np.array(a)\n",
    "npb = np.array(b)"
   ]
  },
  {
   "cell_type": "code",
   "execution_count": 133,
   "id": "c062e38a",
   "metadata": {},
   "outputs": [
    {
     "data": {
      "text/plain": [
       "5.999999999999999"
      ]
     },
     "execution_count": 133,
     "metadata": {},
     "output_type": "execute_result"
    }
   ],
   "source": [
    "no_numpy_scalar(a, b)"
   ]
  },
  {
   "cell_type": "code",
   "execution_count": 134,
   "id": "ecb3278c",
   "metadata": {
    "scrolled": true
   },
   "outputs": [
    {
     "data": {
      "text/plain": [
       "6"
      ]
     },
     "execution_count": 134,
     "metadata": {},
     "output_type": "execute_result"
    }
   ],
   "source": [
    "numpy_scalar(npa, npb)"
   ]
  },
  {
   "cell_type": "code",
   "execution_count": 136,
   "id": "0062a469",
   "metadata": {},
   "outputs": [
    {
     "name": "stdout",
     "output_type": "stream",
     "text": [
      "Wall time: 997 µs\n",
      "Wall time: 0 ns\n"
     ]
    }
   ],
   "source": [
    "%time product_1 = no_numpy_scalar(a,b)\n",
    "%time product_2 = numpy_scalar(npa,npb)\n",
    "\n",
    "# проверим корректность:\n",
    "assert np.allclose(product_1, product_2)"
   ]
  },
  {
   "cell_type": "code",
   "execution_count": 139,
   "id": "98d77ecd",
   "metadata": {},
   "outputs": [],
   "source": [
    "assert np.allclose(product_1, product_2)"
   ]
  },
  {
   "cell_type": "code",
   "execution_count": 128,
   "id": "f8bd1f13",
   "metadata": {},
   "outputs": [
    {
     "data": {
      "text/plain": [
       "1.7320508075688772"
      ]
     },
     "execution_count": 128,
     "metadata": {},
     "output_type": "execute_result"
    }
   ],
   "source": [
    "d(a)"
   ]
  },
  {
   "cell_type": "code",
   "execution_count": 129,
   "id": "99103ae1",
   "metadata": {},
   "outputs": [
    {
     "data": {
      "text/plain": [
       "1.7320508075688772"
      ]
     },
     "execution_count": 129,
     "metadata": {},
     "output_type": "execute_result"
    }
   ],
   "source": [
    "sqrt(3)"
   ]
  },
  {
   "cell_type": "markdown",
   "id": "924c4a7f",
   "metadata": {},
   "source": [
    "# Напишите функцию, которая находит сумму четных элементов на главной диагонали квадратной матрицы (именно чётных элементов, а не элементов на чётных позициях!). Если чётных элементов нет, то вывести 0. Используйте библиотеку numpy."
   ]
  },
  {
   "cell_type": "code",
   "execution_count": 94,
   "id": "9f3f6668",
   "metadata": {},
   "outputs": [],
   "source": [
    "import numpy as np #не стирать!        \n",
    "\n",
    "def diag_2k(a):\n",
    "    #param a: np.array[size, size]\n",
    "    #YOUR CODE\n",
    "    n = a.shape[1]\n",
    "    o = np.eye(n)\n",
    "    result = o*a#YOUR CODE\n",
    "    return np.sum(result[result % 2 == 0])"
   ]
  },
  {
   "cell_type": "code",
   "execution_count": 95,
   "id": "20ab7975",
   "metadata": {},
   "outputs": [],
   "source": [
    "x = np.array([[1,2,4],[3,1,4],[1,1,6]])"
   ]
  },
  {
   "cell_type": "code",
   "execution_count": 96,
   "id": "d34cbbd1",
   "metadata": {},
   "outputs": [
    {
     "data": {
      "text/plain": [
       "array([[1, 2, 4],\n",
       "       [3, 1, 4],\n",
       "       [1, 1, 6]])"
      ]
     },
     "execution_count": 96,
     "metadata": {},
     "output_type": "execute_result"
    }
   ],
   "source": [
    "x"
   ]
  },
  {
   "cell_type": "code",
   "execution_count": 97,
   "id": "3d69f137",
   "metadata": {},
   "outputs": [
    {
     "data": {
      "text/plain": [
       "3"
      ]
     },
     "execution_count": 97,
     "metadata": {},
     "output_type": "execute_result"
    }
   ],
   "source": [
    "x.shape[1]"
   ]
  },
  {
   "cell_type": "code",
   "execution_count": 98,
   "id": "aba12ae1",
   "metadata": {},
   "outputs": [
    {
     "data": {
      "text/plain": [
       "6.0"
      ]
     },
     "execution_count": 98,
     "metadata": {},
     "output_type": "execute_result"
    }
   ],
   "source": [
    "diag_2k(x)"
   ]
  },
  {
   "cell_type": "code",
   "execution_count": 99,
   "id": "3d575726",
   "metadata": {},
   "outputs": [],
   "source": [
    "a = np.array([1,1,1])\n",
    "b = np.array([2,2,2])"
   ]
  },
  {
   "cell_type": "code",
   "execution_count": 100,
   "id": "478dffb0",
   "metadata": {},
   "outputs": [
    {
     "data": {
      "text/plain": [
       "6"
      ]
     },
     "execution_count": 100,
     "metadata": {},
     "output_type": "execute_result"
    }
   ],
   "source": [
    "np.dot(a,b)"
   ]
  },
  {
   "cell_type": "markdown",
   "id": "28b3b18d",
   "metadata": {},
   "source": [
    "На вход дан двумерный массив XX. Напишите функцию, которая для каждой строчки x = (x_1, x_2, \\ldots, x_n)x=(x \n",
    "1\n",
    "​\n",
    " ,x \n",
    "2\n",
    "​\n",
    " ,…,x \n",
    "n\n",
    "​\n",
    " ) массива XX строит строчку s = (s_1, s_2, \\ldots, s_n)s=(s \n",
    "1\n",
    "​\n",
    " ,s \n",
    "2\n",
    "​\n",
    " ,…,s \n",
    "n\n",
    "​\n",
    " ), где s_k=x_1+...+x_ks \n",
    "k\n",
    "​\n",
    " =x \n",
    "1\n",
    "​\n",
    " +...+x \n",
    "k\n",
    "​\n",
    " , а затем выдаёт массив из построенных строчек. Используйте библиотеку numpy (вам поможет функция cumsum). Выходом функции должен быть двумерный массив той же формы, что и XX."
   ]
  },
  {
   "cell_type": "code",
   "execution_count": 2,
   "id": "2a5d59dc",
   "metadata": {},
   "outputs": [],
   "source": [
    "import numpy as np"
   ]
  },
  {
   "cell_type": "code",
   "execution_count": 18,
   "id": "03f80369",
   "metadata": {},
   "outputs": [],
   "source": [
    "x = np.array([[1,1,1],[1,1,1]])"
   ]
  },
  {
   "cell_type": "code",
   "execution_count": 20,
   "id": "36babad0",
   "metadata": {},
   "outputs": [
    {
     "data": {
      "text/plain": [
       "array([ 1,  2,  3,  4,  5,  6, 11, 32])"
      ]
     },
     "execution_count": 20,
     "metadata": {},
     "output_type": "execute_result"
    }
   ],
   "source": [
    "y = np.append([np.cumsum(x)], [11,32])\n",
    "y"
   ]
  },
  {
   "cell_type": "code",
   "execution_count": 33,
   "id": "59118975",
   "metadata": {},
   "outputs": [
    {
     "data": {
      "text/plain": [
       "array([[ 1,  2,  3,  4],\n",
       "       [ 5,  6, 11, 32]])"
      ]
     },
     "execution_count": 33,
     "metadata": {},
     "output_type": "execute_result"
    }
   ],
   "source": [
    "y = y.reshape(2,4)\n",
    "y"
   ]
  },
  {
   "cell_type": "code",
   "execution_count": 31,
   "id": "6b813399",
   "metadata": {},
   "outputs": [
    {
     "data": {
      "text/plain": [
       "array([[ 1,  2,  3,  4,  5,  6, 11, 32],\n",
       "       [ 1,  2,  3,  4,  5,  6, 11, 32],\n",
       "       [ 1,  2,  3,  4,  5,  6, 11, 32]])"
      ]
     },
     "execution_count": 31,
     "metadata": {},
     "output_type": "execute_result"
    }
   ],
   "source": [
    "q = np.append(np.array([y,y]), y) \n",
    "q.shape = (3, 8)\n",
    "q"
   ]
  },
  {
   "cell_type": "code",
   "execution_count": 17,
   "id": "ec1e80bc",
   "metadata": {},
   "outputs": [
    {
     "ename": "TypeError",
     "evalue": "'tuple' object is not callable",
     "output_type": "error",
     "traceback": [
      "\u001b[1;31m---------------------------------------------------------------------------\u001b[0m",
      "\u001b[1;31mTypeError\u001b[0m                                 Traceback (most recent call last)",
      "\u001b[1;32m~\\AppData\\Local\\Temp/ipykernel_3236/1514513194.py\u001b[0m in \u001b[0;36m<module>\u001b[1;34m\u001b[0m\n\u001b[1;32m----> 1\u001b[1;33m \u001b[0my\u001b[0m\u001b[1;33m.\u001b[0m\u001b[0mshape\u001b[0m\u001b[1;33m(\u001b[0m\u001b[1;33m(\u001b[0m\u001b[1;36m2\u001b[0m\u001b[1;33m,\u001b[0m\u001b[1;33m)\u001b[0m\u001b[1;33m)\u001b[0m\u001b[1;33m\u001b[0m\u001b[1;33m\u001b[0m\u001b[0m\n\u001b[0m",
      "\u001b[1;31mTypeError\u001b[0m: 'tuple' object is not callable"
     ]
    }
   ],
   "source": [
    "y.shape((2,))"
   ]
  },
  {
   "cell_type": "code",
   "execution_count": 44,
   "id": "eb0e0ed2",
   "metadata": {},
   "outputs": [
    {
     "data": {
      "text/plain": [
       "array([[ 1,  2,  3,  4],\n",
       "       [ 5,  6, 11, 32]])"
      ]
     },
     "execution_count": 44,
     "metadata": {},
     "output_type": "execute_result"
    }
   ],
   "source": [
    "y"
   ]
  },
  {
   "cell_type": "code",
   "execution_count": 49,
   "id": "dd1c6cb6",
   "metadata": {},
   "outputs": [],
   "source": [
    "\n",
    "import numpy as np\n",
    "\n",
    "def cumsum(A):\n",
    "    return A.cumsum(1)"
   ]
  },
  {
   "cell_type": "code",
   "execution_count": 50,
   "id": "f9165c32",
   "metadata": {},
   "outputs": [
    {
     "data": {
      "text/plain": [
       "array([[ 1,  3,  6, 10],\n",
       "       [ 5, 11, 22, 54]], dtype=int32)"
      ]
     },
     "execution_count": 50,
     "metadata": {},
     "output_type": "execute_result"
    }
   ],
   "source": [
    "cumsum(y)"
   ]
  },
  {
   "cell_type": "markdown",
   "id": "c8f286ac",
   "metadata": {},
   "source": [
    "Задан двумерный массив XX. Для каждой строчки массива XX необходимо сделать следующее преобразование.\n",
    "\n",
    "Пусть дана строчка xx. Необходимо построить новый массив, где все элементы с нечетными индексами требуется заменить на число aa (значение по умолчанию a = 1a=1). Все элементы с четными индексами нужно возвести в куб. Затем записать элементы в обратном порядке относительно их позиций. В конце требуется слить массив xx с преобразованным xx и вернуть на выход функции (естественно, выход должен быть numpy-массивом).\n",
    "\n",
    "Напишите функцию, которая выполняет данное преобразование для каждой строчки двумерного массива XX. Массив XX при этом должен остаться без изменений.\n",
    "\n",
    "Используйте библиотеку numpy.\n",
    "\n",
    "Пример:\n",
    "x = [[100, 200, 300, 400, 500100,200,300,400,500]] -> [[100, a, 300, a, 500100,a,300,a,500]] -> [[500^3, a, 300^3, a, 100^3500 \n",
    "3\n",
    " ,a,300 \n",
    "3\n",
    " ,a,100 \n",
    "3\n",
    " ]] -> склеиваем -> [[100, 200, 300, 400, 500, 500^3, a, 300^3, a, 100^3100,200,300,400,500,500 \n",
    "3\n",
    " ,a,300 \n",
    "3\n",
    " ,a,100 \n",
    "3\n",
    " ]]"
   ]
  },
  {
   "cell_type": "code",
   "execution_count": 79,
   "id": "0d7823f1",
   "metadata": {},
   "outputs": [
    {
     "data": {
      "text/plain": [
       "array([100, 200, 300, 400, 500])"
      ]
     },
     "execution_count": 79,
     "metadata": {},
     "output_type": "execute_result"
    }
   ],
   "source": [
    "v=np.array([100,200,300,400,500])\n",
    "v"
   ]
  },
  {
   "cell_type": "code",
   "execution_count": 80,
   "id": "5637c9d8",
   "metadata": {},
   "outputs": [],
   "source": [
    "v[::2] **= 3"
   ]
  },
  {
   "cell_type": "code",
   "execution_count": 81,
   "id": "571451cc",
   "metadata": {},
   "outputs": [
    {
     "data": {
      "text/plain": [
       "array([  1000000,       200,  27000000,       400, 125000000])"
      ]
     },
     "execution_count": 81,
     "metadata": {},
     "output_type": "execute_result"
    }
   ],
   "source": [
    "v"
   ]
  },
  {
   "cell_type": "code",
   "execution_count": 66,
   "id": "a676b977",
   "metadata": {},
   "outputs": [
    {
     "data": {
      "text/plain": [
       "array([1])"
      ]
     },
     "execution_count": 66,
     "metadata": {},
     "output_type": "execute_result"
    }
   ],
   "source": [
    "np.arange(1,2)"
   ]
  },
  {
   "cell_type": "code",
   "execution_count": 82,
   "id": "5aae2d23",
   "metadata": {},
   "outputs": [],
   "source": [
    "v[1::2] = 1"
   ]
  },
  {
   "cell_type": "code",
   "execution_count": 83,
   "id": "1ce763d2",
   "metadata": {},
   "outputs": [
    {
     "data": {
      "text/plain": [
       "array([  1000000,         1,  27000000,         1, 125000000])"
      ]
     },
     "execution_count": 83,
     "metadata": {},
     "output_type": "execute_result"
    }
   ],
   "source": [
    "v"
   ]
  },
  {
   "cell_type": "code",
   "execution_count": 85,
   "id": "e0a79663",
   "metadata": {},
   "outputs": [],
   "source": [
    "v = v[::-1]"
   ]
  },
  {
   "cell_type": "code",
   "execution_count": 190,
   "id": "a6c6eb91",
   "metadata": {},
   "outputs": [],
   "source": [
    "import numpy as np\n",
    "\n",
    "def transform(X, a=1):\n",
    "    \"\"\"\n",
    "    param X: np.array[batch_size, n]\n",
    "    \"\"\"\n",
    "    n = X.shape[0]\n",
    "    m = X.shape[1]\n",
    "    XC = X.copy()\n",
    "    XC[:, 1::2] = a\n",
    "    XC[:, ::2]**=3\n",
    "    XC = XC[:, ::-1]\n",
    "    XC = np.append(X, XC, axis=1)\n",
    "    #YOUR CODE\n",
    "    return XC#.reshape((n, m*2))#YOUR CODE"
   ]
  },
  {
   "cell_type": "code",
   "execution_count": 195,
   "id": "326639bf",
   "metadata": {},
   "outputs": [
    {
     "data": {
      "text/plain": [
       "array([125000000,         1,  27000000,         1,   1000000,       100,\n",
       "             200,       300,       400,       500])"
      ]
     },
     "execution_count": 195,
     "metadata": {},
     "output_type": "execute_result"
    }
   ],
   "source": [
    "X=np.array([[100,200,300,400,500],[1,2,3,4,5]])\n",
    "X1 = np.array( [[1,2,3,4,5],[1,2,3,4,5]])\n",
    "X2 = np.array( [[1,2,3,4,5]])\n",
    "v=np.array([100,200,300,400,500])\n",
    "tr(v, 1)"
   ]
  },
  {
   "cell_type": "code",
   "execution_count": 196,
   "id": "b8a8d277",
   "metadata": {},
   "outputs": [
    {
     "data": {
      "text/plain": [
       "<function ndarray.copy>"
      ]
     },
     "execution_count": 196,
     "metadata": {},
     "output_type": "execute_result"
    }
   ],
   "source": [
    "XC = X.copy\n",
    "XC"
   ]
  },
  {
   "cell_type": "code",
   "execution_count": 197,
   "id": "a22ac069",
   "metadata": {},
   "outputs": [
    {
     "name": "stdout",
     "output_type": "stream",
     "text": [
      "[[125000000         1  27000000         1   1000000       100       200\n",
      "        300       400       500]\n",
      " [      125         1        27         1         1         1         2\n",
      "          3         4         5]]\n"
     ]
    }
   ],
   "source": [
    "print(transform(X, 1))\n"
   ]
  },
  {
   "cell_type": "code",
   "execution_count": 198,
   "id": "4337796c",
   "metadata": {},
   "outputs": [
    {
     "name": "stdout",
     "output_type": "stream",
     "text": [
      "[[125   1  27   1   1   1   2   3   4   5]\n",
      " [125   1  27   1   1   1   2   3   4   5]]\n"
     ]
    }
   ],
   "source": [
    "print(transform(X1, 1))"
   ]
  },
  {
   "cell_type": "code",
   "execution_count": 199,
   "id": "3a5af80c",
   "metadata": {},
   "outputs": [
    {
     "name": "stdout",
     "output_type": "stream",
     "text": [
      "[[125   1  27   1   1   1   2   3   4   5]]\n"
     ]
    }
   ],
   "source": [
    "print(transform(X2,1))"
   ]
  },
  {
   "cell_type": "code",
   "execution_count": 2,
   "id": "8f7b06d1",
   "metadata": {},
   "outputs": [],
   "source": [
    "import numpy as np"
   ]
  },
  {
   "cell_type": "code",
   "execution_count": null,
   "id": "32698040",
   "metadata": {},
   "outputs": [],
   "source": [
    "np."
   ]
  },
  {
   "cell_type": "markdown",
   "id": "2505505b",
   "metadata": {},
   "source": [
    "# С помощью numpy написать функцию для кодирования массива (Run-length encoding). Все подряд повторения элементов функция сжимает в один элемент и считает количество повторений. Функция возвращает кортеж из двух numpy-векторов одинаковой длины. Первый содержит элементы, а второй — сколько раз их нужно повторить.\n",
    "\n",
    "Пример: encode(np.array([1, 2, 2, 3, 3, 1, 1, 5, 5, 2, 3, 3])) = (np.array([1, 2, 3, 1, 5, 2, 3]), np.array([1, 2, 2, 2, 2, 1, 2]))"
   ]
  },
  {
   "cell_type": "code",
   "execution_count": null,
   "id": "3e6428a8",
   "metadata": {},
   "outputs": [],
   "source": [
    "import numpy as np\n",
    "\n",
    "def encode(a):\n",
    "    #YOUR CODE\n",
    "    np.arrray(a[1:])\n",
    "    result = #YOUR CODE\n",
    "    return result"
   ]
  },
  {
   "cell_type": "code",
   "execution_count": null,
   "id": "a1372e69",
   "metadata": {},
   "outputs": [],
   "source": [
    "np."
   ]
  }
 ],
 "metadata": {
  "kernelspec": {
   "display_name": "Python 3 (ipykernel)",
   "language": "python",
   "name": "python3"
  },
  "language_info": {
   "codemirror_mode": {
    "name": "ipython",
    "version": 3
   },
   "file_extension": ".py",
   "mimetype": "text/x-python",
   "name": "python",
   "nbconvert_exporter": "python",
   "pygments_lexer": "ipython3",
   "version": "3.9.7"
  }
 },
 "nbformat": 4,
 "nbformat_minor": 5
}
