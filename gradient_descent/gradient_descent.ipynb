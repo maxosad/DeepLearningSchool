{
 "cells": [
  {
   "cell_type": "code",
   "execution_count": 4,
   "id": "289f0c36",
   "metadata": {},
   "outputs": [],
   "source": [
    "import numpy as np"
   ]
  },
  {
   "cell_type": "code",
   "execution_count": 2,
   "id": "3bd5acc9",
   "metadata": {},
   "outputs": [
    {
     "data": {
      "text/plain": [
       "1e-08"
      ]
     },
     "execution_count": 2,
     "metadata": {},
     "output_type": "execute_result"
    }
   ],
   "source": [
    "eps = 1e-8\n",
    "eps"
   ]
  },
  {
   "cell_type": "code",
   "execution_count": 3,
   "id": "bed3a5ef",
   "metadata": {},
   "outputs": [],
   "source": [
    "def pr(f,x):\n",
    "    return (f(x+eps) - f(x-eps))/(2*eps)"
   ]
  },
  {
   "cell_type": "code",
   "execution_count": 11,
   "id": "2d7796a6",
   "metadata": {},
   "outputs": [
    {
     "data": {
      "text/plain": [
       "30.308524312516738"
      ]
     },
     "execution_count": 11,
     "metadata": {},
     "output_type": "execute_result"
    }
   ],
   "source": [
    "pr(lambda x: x**x, np.exp(1))"
   ]
  },
  {
   "cell_type": "code",
   "execution_count": 10,
   "id": "18beefad",
   "metadata": {},
   "outputs": [
    {
     "data": {
      "text/plain": [
       "2.718281828459045"
      ]
     },
     "execution_count": 10,
     "metadata": {},
     "output_type": "execute_result"
    }
   ],
   "source": [
    "np.exp(1)"
   ]
  },
  {
   "cell_type": "code",
   "execution_count": 12,
   "id": "849c80cc",
   "metadata": {},
   "outputs": [
    {
     "data": {
      "text/plain": [
       "0.6931471805599453"
      ]
     },
     "execution_count": 12,
     "metadata": {},
     "output_type": "execute_result"
    }
   ],
   "source": [
    "pr(lambda x: np.tan(x) * np.log(np.cos(x*x)+1), 0)"
   ]
  },
  {
   "cell_type": "markdown",
   "id": "cd33bb23",
   "metadata": {},
   "source": [
    "Ваше задание --- написать python-функцию, которая в качестве аргумента принимает:\n",
    "\n",
    "числовую функцию ff, у которой необходимо вычислить производную\n",
    "число \\varepsilonε --- его необходимо использовать в качестве \"малого отклонения\" для приближённого вычисления производной.\n",
    "Функция должна в свою очередь возвращать числовую функцию f'f \n",
    "′\n",
    " , равную производной функции ff.\n",
    "\n",
    "Однако не подумайте, что вас просят написать что-то, что будет вычислять эту самую производную аналитически. Производную следует вычислять по формуле"
   ]
  },
  {
   "cell_type": "code",
   "execution_count": 5,
   "id": "116b27ad",
   "metadata": {},
   "outputs": [],
   "source": [
    "def grad_descent_v1(f, deriv, x0=None, lr=0.1, iters=100, callback=None):\n",
    "    \"\"\" \n",
    "    Реализация градиентного спуска для функций с одним локальным минимумом,\n",
    "    совпадающим с глобальным. Все тесты будут иметь такую природу.\n",
    "    :param func: float -> float — функция \n",
    "    :param deriv: float -> float — её производная\n",
    "    :param x0: float — начальная точка\n",
    "    :param lr: float — learning rate\n",
    "    :param iters: int — количество итераций\n",
    "    :param callback: callable — функция логирования\n",
    "    \"\"\"\n",
    "\n",
    "    if x0 is None:\n",
    "        # Если точка не дана, сгенерируем случайную\n",
    "        # из равномерного распределения.\n",
    "        # При таком подходе начальная точка может быть\n",
    "        # любой, а не только из какого-то ограниченного диапазона\n",
    "        # np.random.seed(179)\n",
    "        x0 = np.random.uniform()\n",
    "\n",
    "    x = x0\n",
    "\n",
    "    callback(x, f(x))  # не забывайте логировать\n",
    "    for i in range(iters):\n",
    "        x -= lr * deriv(x)\n",
    "    #YOUR CODE. Сделайте итерации градиентного спуска для x\n",
    "\n",
    "    return x"
   ]
  },
  {
   "cell_type": "markdown",
   "id": "f4828eb4",
   "metadata": {},
   "source": []
  },
  {
   "cell_type": "markdown",
   "id": "1b3d4dcd",
   "metadata": {},
   "source": [
    "Это задание чуть сложнее. Если раньше Вам нужно было просто найти минимум у довольно хорошей функции, то сейчас в тестах будут плохие. У них может быть несколько локальных минимумов, вам же нужно найти глобальный минимум у каждой функции.\n",
    "\n",
    "В общем случае такая задача невыполнима, но у вас будут одномерные функции и все самое интересное будет сосредоточено в районе нуля. А именно, известно что глобальный минимум лежит в пределах (low, high) (параметры алгоритма). Вам нужно модифицировать градиентный спуск, который вы написали в предыдущем задании, чтобы он работал и в таком случае. \n",
    "\n",
    "Сначала запустите градиентный спуск из прошлого пункта на тестах из ноутбука. Скорее всего, некоторые из них не пройдут. Подумайте, как исправить ситуацию.\n",
    "\n",
    "И снова не забывайте вызывать callback(x, f(x)) на каждом шаге алгоритма!\n",
    "\n",
    "**Возможное решение** Если вы хотите поэкспериментировать и ощутить всю боль от оптимизации таких функций, сначала подумайте сами, не пытаясь следовать нашим указаниям. Тем не менее, для тех из вас, у кого таких наклонностей нет, мы выписали одно из возможных решений, которое приводит к успеху.\n",
    "\n",
    "Сделайте шаг обучения не константным, а зависящим от номера итерации. Неплохая эвристика --- домножать lr на \\frac{1}{ \\sqrt{iteration}} \n",
    "iteration\n",
    "​\n",
    " \n",
    "1\n",
    "​\n",
    " .\n",
    "В этой задаче в функциях могут после первого же шага градиентного спуска появляться очень большие значения. Для того, чтобы не вылезать за пределы отрезка, на котором ищется минимум, после каждого шага спуска используйте np.clip к очередной точке x_n.\n",
    "Разбейте весь отрезок на несколько (3-6) подотрезков и найдите минимум на каждом из отрезков (на каждом отрезке, кстати, можно сделать больше одного запуска). Затем из всех найденных результатов выберите минимальный.\n",
    "Авторское решение использует параметры iters = 5000 и lr = 0.05.\n",
    "Больше о тонкостях градиентного спуска можно прочитать, например, в лекциях МФТИ."
   ]
  },
  {
   "cell_type": "code",
   "execution_count": null,
   "id": "1d23f7d0",
   "metadata": {},
   "outputs": [],
   "source": [
    "def grad_descent_v2(f, df, low=None, high=None, callback=None):\n",
    "    \"\"\" \n",
    "    Реализация градиентного спуска для функций с несколькими локальным минимумами,\n",
    "    но с известной окрестностью глобального минимума. \n",
    "    Все тесты будут иметь такую природу.\n",
    "    :param func: float -> float — функция \n",
    "    :param deriv: float -> float — её производная\n",
    "    :param low: float — левая граница окрестности\n",
    "    :param high: float — правая граница окрестности\n",
    "    :param callback: callalbe -- функция логирования\n",
    "    \"\"\"\n",
    "    def find_local_min(f, df, low_local, high_local, iters=5000, lr=0.05):\n",
    "        #функция для нахождения минимума функции f на промежутке (low_local, high_local)\n",
    "        x0 = np.random.uniform(low_local, high_local)\n",
    "        x = x0\n",
    "\n",
    "        for i in range(iters):\n",
    "            #YOUR CODE. Don't forget to clip x to [low_local, high_local]\n",
    "\n",
    "        callback(x, f(x))\n",
    "\n",
    "        return x\n",
    "\n",
    "\n",
    "    # вам нужно запустить find_local_min несколько раз с разными границами и среди полученных ответов выбрать тот, при котором f имеет наименьшее значение \n",
    "    # подсказка: np.argmin\n",
    "    # YOUR CODE\n",
    "\n",
    "    # Разбейте отрезок [low,high] на 3-6 равных частей \n",
    "\n",
    "    # Для каждой части запустите find_local_min несколько \n",
    "    # (преподавательский код запускает 10) раз\n",
    "\n",
    "    best_estimate = #Найдите общий минимум по всем запускам. Возможно, вы захотите \n",
    "    #использовать np.argmin\n",
    "\n",
    "    return best_estimate"
   ]
  },
  {
   "cell_type": "markdown",
   "id": "c65bcb92",
   "metadata": {},
   "source": [
    "В лекции было несколько функций, градиенты которых Вам было предложено вычислить. \n",
    "Теперь от Вас требуется сделать это самостоятельно.\n",
    "\n",
    "Вычислите градиент следующей функции:\n",
    "\n",
    "\\psi(x,y,z) = sin(xz) - y^2z + e^x\n",
    "ψ(x,y,z)=sin(xz)−y \n",
    "2\n",
    " z+e \n",
    "x\n",
    " \n",
    "Напишите функцию, которая принимает на вход аргументы xx, yy, zz и возвращает вектор-градиент функции выше. Можно пользоваться функциями sin, cos, tan, exp"
   ]
  },
  {
   "cell_type": "code",
   "execution_count": 4,
   "id": "0c5dc76f",
   "metadata": {},
   "outputs": [],
   "source": [
    "from math import sin, cos, tan, exp, pi\n",
    "\n",
    "def f(x, y, z):\n",
    "    return np.sin(x*z) - (y**2)*z + np.exp(x)\n",
    "\n",
    "def grad_1(a, b, x):\n",
    "    eps = 1e-8\n",
    "    #возвращает кортеж из 3 чисел --- частных производных по x,y,z \n",
    "    dx = (f(a + eps, b, x) - f(a - eps, b, x))/ (2*eps)\n",
    "    dy = (f(a, b + eps, x) - f(a, b - eps, x))/ (2*eps)#YOUR CODE\n",
    "    dz = (f(a, b , x+ eps) - f(a, b, x - eps))/ (2*eps)#YOUR CODE\n",
    "    return (dx, dy, dz)"
   ]
  },
  {
   "cell_type": "markdown",
   "id": "125d5ff9",
   "metadata": {},
   "source": [
    "Еще один градиент, похожий на тот, что был на лекции.\n",
    "Вычислите градиент следующей функции\n",
    "\n",
    "\\psi(x,y,z) = \\ln(\\cos(e^{x+y})) - \\ln(xy)\n",
    "ψ(x,y,z)=ln(cos(e \n",
    "x+y\n",
    " ))−ln(xy)\n",
    "\n",
    "Напишите функцию, которая принимает на вход аргументы xx, yy, zz и возвращает вектор-градиент функции выше. Можно пользоваться функциями sin, cos, tan, exp, sqrt"
   ]
  },
  {
   "cell_type": "code",
   "execution_count": 8,
   "id": "1ed96685",
   "metadata": {},
   "outputs": [],
   "source": [
    "from math import sin, cos, tan, exp, pi\n",
    "import numpy as np\n",
    "\n",
    "\n",
    "def grad_2(a, b, x):\n",
    "    eps = 1e-8\n",
    "    def f(x, y, z):\n",
    "        return np.log(np.cos(np.exp(x+y))) - np.log(x*y)\n",
    "    #возвращает кортеж из 3 чисел --- частных производных по x,y,z \n",
    "    dx = (f(a + eps, b, x) - f(a - eps, b, x))/ (2*eps)\n",
    "    dy = (f(a, b + eps, x) - f(a, b - eps, x))/ (2*eps)#YOUR CODE\n",
    "    dz = (f(a, b , x+ eps) - f(a, b, x - eps))/ (2*eps)#YOUR CODE\n",
    "    return (dx, dy, dz)"
   ]
  },
  {
   "cell_type": "markdown",
   "id": "0f0091ca",
   "metadata": {},
   "source": [
    "А теперь все вместе!\n",
    "\n",
    "У вас есть только функция, которую Вам отдают в качестве аргумента, и вы должны найти её минимум.\n",
    "\n",
    "Вы будете искать глобальный, у вас это должно получиться лишь потому что тут они хорошие. Да, и еще, теперь они не одномерные, а двумерные. Также вам будут даны начальные точки, сходимость из которых гарантируется.\n",
    "\n",
    "Логика написания градиентного спуска остаётся прежней.\n",
    "\n",
    " \n",
    "\n",
    "Подсказка. Можете использовать следующие параметры:\n",
    "\n",
    "Отклонение при вычислении производной \\varepsilon = 10^{-10}ε=10 \n",
    "−10\n",
    " \n",
    "Критерий остановки: кол-во итераций 10^410 \n",
    "4\n",
    " \n",
    "Длина шага градиентного спуска lr = 0.5lr=0.5"
   ]
  },
  {
   "cell_type": "code",
   "execution_count": 37,
   "id": "aaef714c",
   "metadata": {},
   "outputs": [],
   "source": [
    "import numpy as np\n",
    "def numerical_derivative_2d(func, epsilon):\n",
    "    \"\"\"\n",
    "    Функция для приближённого вычисления градиента функции двух переменных. \n",
    "    :param func: np.array[2] -> float — произвольная дифференцируемая функция\n",
    "    :param epsilon: float — максимальная величина приращения по осям\n",
    "    :return: другая функция, которая приближённо вычисляет градиент в точке\n",
    "    \"\"\"\n",
    "    def grad_func(x):\n",
    "        \"\"\"\n",
    "        :param x: np.array[2] — точка, в которой нужно вычислить градиент\n",
    "        :return: np.array[2] — приближённое значение градиента в этой точке\n",
    "        \"\"\"\n",
    "        ep1 = np.array([epsilon, 0])\n",
    "        ep2 = np.array([0, epsilon])\n",
    "        f_val = func(x)\n",
    "        return np.array([(func(x + ep1) - func(x))/ epsilon, (func(x+ep2)-func(x)) / epsilon]) \n",
    "\n",
    "    return grad_func\n",
    "\n",
    "\n",
    "def grad_descent_2d(func, low, high, start=None, callback=None):\n",
    "    \"\"\" \n",
    "    Реализация градиентного спуска для функций двух переменных \n",
    "    с несколькими локальным минимумами, но известной квадратной окрестностью\n",
    "    глобального минимума. Все тесты будут иметь такую природу.\n",
    "\n",
    "    Обратите внимание, что здесь градиент функции не дан.\n",
    "    Его нужно вычислять приближённо.\n",
    "\n",
    "    :param func: np.ndarray -> float — функция \n",
    "    :param low: левая граница интервала по каждой из осей\n",
    "    :param high: правая граница интервала по каждой из осей\n",
    "    \"\"\"\n",
    "    eps = 1e-10\n",
    "    lr = 0.5\n",
    "    iterat = int(1e4)\n",
    "    df = numerical_derivative_2d(func, eps)\n",
    "    x = start\n",
    "    for i in range(iterat):\n",
    "        x -= lr*df(x)\n",
    "    return x"
   ]
  },
  {
   "cell_type": "code",
   "execution_count": 40,
   "id": "b826522c",
   "metadata": {},
   "outputs": [
    {
     "data": {
      "text/plain": [
       "array([-0.00706821,  0.00706784])"
      ]
     },
     "execution_count": 40,
     "metadata": {},
     "output_type": "execute_result"
    }
   ],
   "source": [
    "grad_descent_2d(lambda x: x[0]**2 * x[1]**2, -1, 1, np.array([-0.5,0.5]))"
   ]
  },
  {
   "cell_type": "code",
   "execution_count": 32,
   "id": "663e6fee",
   "metadata": {},
   "outputs": [
    {
     "data": {
      "text/plain": [
       "array([2, 2])"
      ]
     },
     "execution_count": 32,
     "metadata": {},
     "output_type": "execute_result"
    }
   ],
   "source": [
    "2 * np.array([1,1])"
   ]
  },
  {
   "cell_type": "code",
   "execution_count": null,
   "id": "68df4534",
   "metadata": {},
   "outputs": [],
   "source": []
  }
 ],
 "metadata": {
  "kernelspec": {
   "display_name": "Python 3 (ipykernel)",
   "language": "python",
   "name": "python3"
  },
  "language_info": {
   "codemirror_mode": {
    "name": "ipython",
    "version": 3
   },
   "file_extension": ".py",
   "mimetype": "text/x-python",
   "name": "python",
   "nbconvert_exporter": "python",
   "pygments_lexer": "ipython3",
   "version": "3.9.7"
  }
 },
 "nbformat": 4,
 "nbformat_minor": 5
}
